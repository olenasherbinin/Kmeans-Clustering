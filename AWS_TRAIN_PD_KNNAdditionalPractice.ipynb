{
  "cells": [
    {
      "cell_type": "markdown",
      "metadata": {
        "id": "EcG6Z2zPTX0J"
      },
      "source": [
        "## **Additional KNN Practice**\n",
        "----\n"
      ]
    },
    {
      "cell_type": "markdown",
      "metadata": {
        "id": "AA-7HDHPGlhx"
      },
      "source": [
        "####**Before you begin, make sure to import your libraries!**"
      ]
    },
    {
      "cell_type": "code",
      "execution_count": null,
      "metadata": {
        "id": "l2oyIkjzGlFX"
      },
      "outputs": [],
      "source": [
        "import numpy as np\n",
        "import pandas as pd\n",
        "import matplotlib.pyplot as plt\n",
        "from sklearn.model_selection import train_test_split\n",
        "from sklearn.neighbors import KNeighborsRegressor\n",
        "from sklearn.metrics import mean_squared_error\n",
        "import math\n",
        "from sklearn.preprocessing import StandardScaler # Useful for scaling/normalizing our data. You do not need to know this\n",
        "from sklearn.neighbors import KNeighborsClassifier\n",
        "from sklearn.metrics import classification_report, confusion_matrix"
      ]
    },
    {
      "cell_type": "markdown",
      "metadata": {
        "id": "x8uH0qev1sYi"
      },
      "source": [
        "### **Problem \\#1:**\n",
        "---\n"
      ]
    },
    {
      "cell_type": "markdown",
      "metadata": {
        "id": "V-1kLApAATtC"
      },
      "source": [
        "\n",
        "\n",
        "<center> <img src = 'https://vitalflux.com/wp-content/uploads/2020/09/Screenshot-2020-09-22-at-2.34.57-PM.png'> </center>\n",
        "\n"
      ]
    },
    {
      "cell_type": "markdown",
      "metadata": {
        "id": "hW079DLS-VL4"
      },
      "source": [
        "**1.1)  How would the K-Nearest Neighbor algorithm classify the green data point if $K=3$?**"
      ]
    },
    {
      "cell_type": "code",
      "execution_count": null,
      "metadata": {
        "id": "cu0FJFMbPT1B"
      },
      "outputs": [],
      "source": [
        "#As a red triangle"
      ]
    },
    {
      "cell_type": "markdown",
      "metadata": {
        "id": "XDcfUtjbBkba"
      },
      "source": [
        "##### **1.2)  How would the $K$- Nearest Neighbor algorithm classify the green data point if $K=5$?**"
      ]
    },
    {
      "cell_type": "code",
      "execution_count": null,
      "metadata": {
        "id": "o-MBd44dPUv_"
      },
      "outputs": [],
      "source": [
        "#As a blue square"
      ]
    },
    {
      "cell_type": "markdown",
      "metadata": {
        "id": "_mCd7l5QCR6u"
      },
      "source": [
        "##### **1.3) Is there a $K$- value that would make the classification difficult to determine? If so, why?**"
      ]
    },
    {
      "cell_type": "code",
      "execution_count": null,
      "metadata": {
        "id": "BaRNIROjPWxk"
      },
      "outputs": [],
      "source": [
        "# K=10, because there will be 5 elements from each group"
      ]
    },
    {
      "cell_type": "markdown",
      "metadata": {
        "id": "mWF3B0FZFdNE"
      },
      "source": [
        "### **Problem \\#2:**\n",
        "---\n",
        "For the following exercise, we will use a dataset which maps life expectancy around the world. Explore the dataset and get familiar with the data before proceeding. **Using KNN, you will use the overall life expectancy, as well as the male and female life expectancy of the new datapoint, to determine which continent the data might belong to.** For this exercise, you are given the following information about the data point you must classify:\n",
        "\n",
        "* Overall Life Expectancy: 84.65\n",
        "* Overal Male Life Expectancy: 87.15\n",
        "* Overall Female Life Expectancy: 92.24"
      ]
    },
    {
      "cell_type": "code",
      "execution_count": null,
      "metadata": {
        "id": "slXreCr1eUpz",
        "outputId": "d72f7af3-cdfd-4c26-f486-a9071422b3ec"
      },
      "outputs": [
        {
          "name": "stdout",
          "output_type": "stream",
          "text": [
            "Collecting openpyxl\n",
            "  Downloading openpyxl-3.0.10-py2.py3-none-any.whl (242 kB)\n",
            "\u001b[K     |████████████████████████████████| 242 kB 4.8 MB/s eta 0:00:01\n",
            "\u001b[?25hCollecting et-xmlfile\n",
            "  Downloading et_xmlfile-1.1.0-py3-none-any.whl (4.7 kB)\n",
            "Installing collected packages: et-xmlfile, openpyxl\n",
            "Successfully installed et-xmlfile-1.1.0 openpyxl-3.0.10\n"
          ]
        }
      ],
      "source": [
        "!pip install openpyxl"
      ]
    },
    {
      "cell_type": "markdown",
      "metadata": {
        "id": "FqEhezJQBGNY"
      },
      "source": [
        "#### **Step \\#1: Load the data**\n",
        "---\n",
        "Run the given code to load and view your data frame."
      ]
    },
    {
      "cell_type": "code",
      "execution_count": null,
      "metadata": {
        "id": "tom104vbGQEE",
        "outputId": "c0552cb1-4e18-4921-ccd6-677f3c84cc89"
      },
      "outputs": [
        {
          "data": {
            "text/html": [
              "<div>\n",
              "<style scoped>\n",
              "    .dataframe tbody tr th:only-of-type {\n",
              "        vertical-align: middle;\n",
              "    }\n",
              "\n",
              "    .dataframe tbody tr th {\n",
              "        vertical-align: top;\n",
              "    }\n",
              "\n",
              "    .dataframe thead th {\n",
              "        text-align: right;\n",
              "    }\n",
              "</style>\n",
              "<table border=\"1\" class=\"dataframe\">\n",
              "  <thead>\n",
              "    <tr style=\"text-align: right;\">\n",
              "      <th></th>\n",
              "      <th>Rank</th>\n",
              "      <th>Country</th>\n",
              "      <th>Overall Life</th>\n",
              "      <th>Male Life</th>\n",
              "      <th>Female Life</th>\n",
              "      <th>Continent</th>\n",
              "    </tr>\n",
              "  </thead>\n",
              "  <tbody>\n",
              "    <tr>\n",
              "      <th>0</th>\n",
              "      <td>1</td>\n",
              "      <td>Monaco</td>\n",
              "      <td>89.5</td>\n",
              "      <td>85.6</td>\n",
              "      <td>93.5</td>\n",
              "      <td>Europe</td>\n",
              "    </tr>\n",
              "    <tr>\n",
              "      <th>1</th>\n",
              "      <td>2</td>\n",
              "      <td>Japan</td>\n",
              "      <td>85.0</td>\n",
              "      <td>81.7</td>\n",
              "      <td>88.5</td>\n",
              "      <td>Asia</td>\n",
              "    </tr>\n",
              "    <tr>\n",
              "      <th>2</th>\n",
              "      <td>3</td>\n",
              "      <td>Singapore</td>\n",
              "      <td>85.0</td>\n",
              "      <td>82.3</td>\n",
              "      <td>87.8</td>\n",
              "      <td>Asia</td>\n",
              "    </tr>\n",
              "    <tr>\n",
              "      <th>3</th>\n",
              "      <td>4</td>\n",
              "      <td>Macau; China</td>\n",
              "      <td>84.5</td>\n",
              "      <td>81.6</td>\n",
              "      <td>87.6</td>\n",
              "      <td>Asia</td>\n",
              "    </tr>\n",
              "    <tr>\n",
              "      <th>4</th>\n",
              "      <td>5</td>\n",
              "      <td>San Marino</td>\n",
              "      <td>83.3</td>\n",
              "      <td>80.7</td>\n",
              "      <td>86.1</td>\n",
              "      <td>Europe</td>\n",
              "    </tr>\n",
              "    <tr>\n",
              "      <th>...</th>\n",
              "      <td>...</td>\n",
              "      <td>...</td>\n",
              "      <td>...</td>\n",
              "      <td>...</td>\n",
              "      <td>...</td>\n",
              "      <td>...</td>\n",
              "    </tr>\n",
              "    <tr>\n",
              "      <th>218</th>\n",
              "      <td>219</td>\n",
              "      <td>Gabon</td>\n",
              "      <td>52.1</td>\n",
              "      <td>51.6</td>\n",
              "      <td>52.5</td>\n",
              "      <td>Africa</td>\n",
              "    </tr>\n",
              "    <tr>\n",
              "      <th>219</th>\n",
              "      <td>220</td>\n",
              "      <td>Swaziland</td>\n",
              "      <td>51.6</td>\n",
              "      <td>52.2</td>\n",
              "      <td>51.0</td>\n",
              "      <td>Africa</td>\n",
              "    </tr>\n",
              "    <tr>\n",
              "      <th>220</th>\n",
              "      <td>221</td>\n",
              "      <td>Afghanistan</td>\n",
              "      <td>51.3</td>\n",
              "      <td>49.9</td>\n",
              "      <td>52.7</td>\n",
              "      <td>Asia</td>\n",
              "    </tr>\n",
              "    <tr>\n",
              "      <th>221</th>\n",
              "      <td>222</td>\n",
              "      <td>Guinea-Bissau</td>\n",
              "      <td>50.6</td>\n",
              "      <td>48.6</td>\n",
              "      <td>52.7</td>\n",
              "      <td>Africa</td>\n",
              "    </tr>\n",
              "    <tr>\n",
              "      <th>222</th>\n",
              "      <td>223</td>\n",
              "      <td>Chad</td>\n",
              "      <td>50.2</td>\n",
              "      <td>49.0</td>\n",
              "      <td>51.3</td>\n",
              "      <td>Africa</td>\n",
              "    </tr>\n",
              "  </tbody>\n",
              "</table>\n",
              "<p>223 rows × 6 columns</p>\n",
              "</div>"
            ],
            "text/plain": [
              "     Rank        Country  Overall Life  Male Life  Female Life Continent\n",
              "0       1         Monaco          89.5       85.6         93.5    Europe\n",
              "1       2          Japan          85.0       81.7         88.5      Asia\n",
              "2       3      Singapore          85.0       82.3         87.8      Asia\n",
              "3       4   Macau; China          84.5       81.6         87.6      Asia\n",
              "4       5     San Marino          83.3       80.7         86.1    Europe\n",
              "..    ...            ...           ...        ...          ...       ...\n",
              "218   219          Gabon          52.1       51.6         52.5    Africa\n",
              "219   220      Swaziland          51.6       52.2         51.0    Africa\n",
              "220   221    Afghanistan          51.3       49.9         52.7      Asia\n",
              "221   222  Guinea-Bissau          50.6       48.6         52.7    Africa\n",
              "222   223           Chad          50.2       49.0         51.3    Africa\n",
              "\n",
              "[223 rows x 6 columns]"
            ]
          },
          "execution_count": 5,
          "metadata": {},
          "output_type": "execute_result"
        }
      ],
      "source": [
        "url = 'https://docs.google.com/spreadsheets/d/1z5WPTM4Rge-8U4Dq11Jh9JmNxDAbMrel/edit?usp=sharing&ouid=117761513509433635335&rtpof=true&sd=true'\n",
        "url='https://drive.google.com/uc?id=' + url.split('/')[-2]\n",
        "life_expectancy_df = pd.read_excel(url)\n",
        "life_expectancy_df"
      ]
    },
    {
      "cell_type": "markdown",
      "metadata": {
        "id": "1Pi_Oyq1BIOj"
      },
      "source": [
        "#### **Step \\#2: Decide independent and dependent variables**\n",
        "---\n",
        "Use the dataframe `life_expectancy_df` and subset your data into `x` and `y`.\n",
        "\n",
        "* `x` will be `Overall Life`,\t`Male Life`, and `Female Life`\n",
        "\n",
        "* `y` will be `Continent`\n",
        "\n",
        "**Note: This step has been done for you below.**"
      ]
    },
    {
      "cell_type": "code",
      "execution_count": null,
      "metadata": {
        "id": "n_D9Oo6QX856"
      },
      "outputs": [],
      "source": [
        "x_values = life_expectancy_df.iloc[:, 2:5].values\n",
        "y_values = life_expectancy_df.iloc[:, 5].values"
      ]
    },
    {
      "cell_type": "markdown",
      "metadata": {
        "id": "ioRVV7UXBMDV"
      },
      "source": [
        "#### **Step \\#3: Split the data into train and test data**\n",
        "---\n",
        "Split your data into training and testing data. Reserve 20% of the data for testing.\n",
        "\n",
        "**Hint**: Use `train_test_split` method from `sklearn` library.\n",
        "\n",
        "**Include an extra parameter: `random_state = 42`**"
      ]
    },
    {
      "cell_type": "code",
      "execution_count": null,
      "metadata": {
        "id": "WXO5pzVqS6y9"
      },
      "outputs": [],
      "source": [
        "x_train, x_test, y_train, y_test = # add code here"
      ]
    },
    {
      "cell_type": "markdown",
      "metadata": {
        "id": "4uV1ThdjCfNv"
      },
      "source": [
        "####**Scale data**\n",
        "---\n",
        "Scale your `x_train` training and `x_test` testing data.\n",
        "\n",
        "**Note: This step has been done for you below.**"
      ]
    },
    {
      "cell_type": "code",
      "execution_count": null,
      "metadata": {
        "id": "4rgx3P1cYQsZ"
      },
      "outputs": [],
      "source": [
        "scaler = StandardScaler()\n",
        "scaler.fit(x_train)\n",
        "x_train = scaler.transform(x_train)\n",
        "x_test = scaler.transform(x_test)"
      ]
    },
    {
      "cell_type": "markdown",
      "metadata": {
        "id": "_kAVztveBPzj"
      },
      "source": [
        "#### **Step \\#4: Import your model**\n",
        "---"
      ]
    },
    {
      "cell_type": "code",
      "execution_count": null,
      "metadata": {
        "id": "25_nVC5aCwEK"
      },
      "outputs": [],
      "source": []
    },
    {
      "cell_type": "markdown",
      "metadata": {
        "id": "5K2_7LozBRlD"
      },
      "source": [
        "#### **Step \\#5: Initialize your model**\n",
        "---\n",
        "Build your model with $K=5$\n",
        "\n",
        "**Hint**: Use `KNeighborsClassifier()` method from `sklearn` library."
      ]
    },
    {
      "cell_type": "code",
      "execution_count": null,
      "metadata": {
        "id": "98KYkIoPYo_3"
      },
      "outputs": [],
      "source": []
    },
    {
      "cell_type": "markdown",
      "metadata": {
        "id": "OsaJ5yZxBRq-"
      },
      "source": [
        "#### **Step \\#6: Fit your model and make a prediction**\n",
        "---\n",
        "Train it against your `x_train` and `y_train` training data.\n",
        "\n",
        "Then, use your model to predict `x_test`\n"
      ]
    },
    {
      "cell_type": "code",
      "execution_count": null,
      "metadata": {
        "id": "dBDd6tY7C3Ih"
      },
      "outputs": [],
      "source": []
    },
    {
      "cell_type": "markdown",
      "metadata": {
        "id": "r-0BG0YHBWbs"
      },
      "source": [
        "#### **Step \\#7: Visualize**\n",
        "---\n",
        "Run the two following cells to see a **confusion matrix** for your KNN model (you may need to fill in variable names depending on what you named them). *Do not worry about understanding this code. This is just a cool visualization for you to see.*\n",
        "\n",
        "The first is in a TP/TN/FP/FN style as seen in lecture.\n"
      ]
    },
    {
      "cell_type": "markdown",
      "metadata": {
        "id": "RklQhyax6mpS"
      },
      "source": [
        "**NOTE:** The names of variables are important here. Here is a list of the variable names used below that you may need to change:\n",
        "* `y_test`\n",
        "* `pred` - if you used another name from your prediction, change `pred` below."
      ]
    },
    {
      "cell_type": "markdown",
      "metadata": {
        "id": "o35xOFIkeCh6"
      },
      "source": [
        "##### **Confusion Matrix 1**\n",
        "\n",
        "*Answer the following questions with this confusion matrix:*\n",
        "* How many points were used to predict?\n",
        "* How many were correctly identified?\n",
        "* How many were incorrectly identified?\n",
        "* Give an example of what a False Negative would be in this case."
      ]
    },
    {
      "cell_type": "code",
      "execution_count": null,
      "metadata": {
        "id": "f-OtXGMXQp_H"
      },
      "outputs": [],
      "source": [
        "# Print out confusion matrix\n",
        "cmat = confusion_matrix(y_test, pred)\n",
        "print('TP - True Positive {}'.format(cmat[1,1]))\n",
        "print('TN - True Negative {}'.format(cmat[0,0]))\n",
        "print('FP - False Positive {}'.format(cmat[0,1]))\n",
        "print('FN - False Negative {}'.format(cmat[1,0]))"
      ]
    },
    {
      "cell_type": "markdown",
      "metadata": {
        "id": "sXNfy815d_UW"
      },
      "source": [
        "##### **Confusion Matrix 2**\n",
        "The second is larger than two by two since it shows a confusion matrix by continent rather than just positive or negative. This means you can see how well the model performed for by continent.\n",
        "\n",
        "* The numbers in each box represent how many data points fell under that category.\n",
        "* The y-axis represents the true label, and the x-axis represents the predicted.\n",
        "\n",
        "\n",
        "Correct predictions are those on the diagonal from top left to bottom right. Any other number represent incorrect predictions. If a box has the same row name and column name, that is a correct prediction. If the names differ, then you can see a data point was predicted one continent when it was actually another.\n",
        "\n",
        "*Answer the following questions with this confusion matrix:*\n",
        "* Which continent looks like it performed the best with this model?\n",
        "* Which continent performed the worst with this model?"
      ]
    },
    {
      "cell_type": "markdown",
      "metadata": {
        "id": "pMSktf5u7T0c"
      },
      "source": [
        "**NOTE:** The names of variables are important here. Here is a list of the variable names used below that you may need to change:\n",
        "* `x_test` - note lowercase\n",
        "* `x_train` - note lowercase\n",
        "* `y_test`\n",
        "* `y_train`"
      ]
    },
    {
      "cell_type": "code",
      "execution_count": null,
      "metadata": {
        "id": "fC6Bin1p0hUJ"
      },
      "outputs": [],
      "source": [
        "import matplotlib.pyplot as plot\n",
        "import numpy as np\n",
        "from sklearn import svm\n",
        "from sklearn.metrics import ConfusionMatrixDisplay\n",
        "\n",
        "classifier = svm.SVC(kernel=\"linear\", C=0.02).fit(x_train, y_train)\n",
        "u, indices = np.unique(y_test, return_index=True)\n",
        "class_names = y_test[indices]\n",
        "\n",
        "title_options = [\n",
        "    (\"Confusion matrix\", None),\n",
        "]\n",
        "\n",
        "for title, normalize in title_options:\n",
        "    display = ConfusionMatrixDisplay.from_estimator(\n",
        "        classifier,\n",
        "        x_test,\n",
        "        y_test,\n",
        "        display_labels=class_names,\n",
        "        xticks_rotation='vertical',\n",
        "        cmap=plot.cm.Blues,\n",
        "        normalize=normalize,\n",
        "    )\n",
        "    display.ax_.set_title(title)\n",
        "\n",
        "    print(title)\n",
        "    print(display.confusion_matrix)\n",
        "\n",
        "plot.show()"
      ]
    },
    {
      "cell_type": "markdown",
      "metadata": {
        "id": "TwpUWQ0-BaZT"
      },
      "source": [
        "#### **Step \\#8: Test the model**\n",
        "---\n",
        "Use the following code to test the accuracy of your model.\n",
        "\n",
        "**NOTE:** Mean squared is not included below... can you think of why?\n",
        "\n",
        "*Answer the following questions based on the classification report*:\n",
        "* Which continent/country had the most precise predictions?\n",
        "* Which one had the least precise?\n",
        "* Why do you think Africa has a recall of 1.00?"
      ]
    },
    {
      "cell_type": "code",
      "execution_count": null,
      "metadata": {
        "id": "ocZqEXxfEIu5"
      },
      "outputs": [],
      "source": [
        "from sklearn.metrics import mean_squared_error, classification_report, accuracy_score\n",
        "print(\"Accuracy Score: \", accuracy_score(y_test, pred))\n",
        "print(classification_report(y_test, pred))"
      ]
    },
    {
      "cell_type": "markdown",
      "metadata": {
        "id": "y1asRJsmBbvB"
      },
      "source": [
        "#### **Step \\#9: Use the model**\n",
        "---\n",
        "\n",
        "*Use the mystery data point supplied to predict what continent it is a part of.*"
      ]
    },
    {
      "cell_type": "code",
      "execution_count": null,
      "metadata": {
        "id": "VHQtq9GCKzYz"
      },
      "outputs": [],
      "source": [
        "mystery_data_point = np.array([84.65, 87.15, 92.24])\n",
        "mystery_data_point_reshaped = mystery_data_point.reshape(1,-1)"
      ]
    },
    {
      "cell_type": "code",
      "execution_count": null,
      "metadata": {
        "id": "QGmp-CjUvzfh"
      },
      "outputs": [],
      "source": []
    },
    {
      "cell_type": "markdown",
      "metadata": {
        "id": "DrYD3awEilAS"
      },
      "source": [
        "**Use your model and the code from above to predict for the following data points:**\n",
        "\n",
        "* `Overall Life`: 70,   `Male Life`: 65,   `Female Life`: 86 (`[70, 65, 86]`)\n",
        "* `Overall Life`: 0,   `Male Life`: 0,   `Female Life`: 0 (`[0, 0, 0]`)\n",
        "* `Overall Life`: 80,   `Male Life`: 68,   `Female Life`: 80 (`[80, 68, 80]`)"
      ]
    },
    {
      "cell_type": "code",
      "execution_count": null,
      "metadata": {
        "id": "EphVt9inkWax"
      },
      "outputs": [],
      "source": []
    },
    {
      "cell_type": "markdown",
      "metadata": {
        "id": "o23jaYzyBOPi"
      },
      "source": [
        "---\n",
        "© 2022 The Coding School, All rights reserved"
      ]
    }
  ],
  "metadata": {
    "colab": {
      "provenance": []
    },
    "kernelspec": {
      "display_name": "default:Python",
      "language": "python",
      "name": "conda-env-default-py"
    },
    "language_info": {
      "codemirror_mode": {
        "name": "ipython",
        "version": 3
      },
      "file_extension": ".py",
      "mimetype": "text/x-python",
      "name": "python",
      "nbconvert_exporter": "python",
      "pygments_lexer": "ipython3",
      "version": "3.9.13"
    }
  },
  "nbformat": 4,
  "nbformat_minor": 0
}