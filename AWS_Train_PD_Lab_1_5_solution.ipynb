{
  "cells": [
    {
      "cell_type": "markdown",
      "metadata": {
        "id": "mbZXQ3rA3NwL"
      },
      "source": [
        "# Lab \\#5: Linear Regression"
      ]
    },
    {
      "cell_type": "markdown",
      "metadata": {
        "id": "6VBmscL2Kl72"
      },
      "source": [
        "### **The steps of using a machine learning model:**\n",
        "\n",
        "1. Load in the data\n",
        "2. Decide which features will be used as the predictors (the X values), and which feature you want to predict (the y values)\n",
        "3. Perform a test, train split to create a testing dataset and a training dataset.\n",
        "4. Import an ML algorithm\n",
        "5. Initialise the model\n",
        "6. Fit the model on the training set\n",
        "7. Draw a visualisation (if applicable to the model)\n",
        "8. Test the model on the test set and evaluate the performance\n",
        "9. Use your Model"
      ]
    },
    {
      "cell_type": "markdown",
      "metadata": {
        "id": "3f6t0yYBhCsm"
      },
      "source": [
        "## Part 1: Practice Together\n",
        "---"
      ]
    },
    {
      "cell_type": "markdown",
      "metadata": {
        "id": "oZZT5pJqia_E"
      },
      "source": [
        "### **Step \\#0: Import the following before continuing**\n",
        "---"
      ]
    },
    {
      "cell_type": "code",
      "execution_count": null,
      "metadata": {
        "id": "J697Qi0eizBL"
      },
      "outputs": [],
      "source": [
        "import pandas as pd\n",
        "import numpy as np\n",
        "import matplotlib.pyplot as plt\n",
        "from sklearn import datasets, model_selection"
      ]
    },
    {
      "cell_type": "markdown",
      "metadata": {
        "id": "4hSqHdxjid5M"
      },
      "source": [
        "### **Step \\#1: Load the data**\n",
        "---\n",
        "\n",
        "The following dataset contains information on Boston housing and contains 13 numerical features and a numerical target."
      ]
    },
    {
      "cell_type": "markdown",
      "metadata": {
        "id": "vJc6J4UBkVsA"
      },
      "source": [
        "* CRIM: Per capita crime rate by town\n",
        "* ZN: Proportion of residential land zoned for lots over 25,000 sq. ft\n",
        "* INDUS: Proportion of non-retail business acres per town\n",
        "* CHAS: Charles River dummy variable (= 1 if tract bounds river; 0 otherwise)\n",
        "* NOX: Nitric oxide concentration (parts per 10 million)\n",
        "* RM: Average number of rooms per dwelling\n",
        "* AGE: Proportion of owner-occupied units built prior to 1940\n",
        "* DIS: Weighted distances to five Boston employment centers\n",
        "* RAD: Index of accessibility to radial highways\n",
        "* TAX: Full-value property tax rate per 10,000 dolalrs\n",
        "* PTRATIO: Pupil-teacher ratio by town\n",
        "* B: 1000(Bk — 0.63)², where Bk is the proportion of [people of African American descent] by town\n",
        "* LSTAT: Percentage of lower status of the population\n",
        "* **TARGET** (target that needs to be added): Median value of owner-occupied homes in $1000s. *You need to add this column after loading the boston data from sklearn datasets*.\n"
      ]
    },
    {
      "cell_type": "markdown",
      "metadata": {
        "id": "Uw4TSvUQ4OmF"
      },
      "source": [
        "**NOTE:** The Boston housing prices dataset has a noted ethical problem: the authors of this dataset engineered a non-invertible variable “B” assuming that racial self-segregation had a positive impact on house prices. This variable is likely due to the practice of ['Redlining'](https://www.wgbh.org/news/local-news/2019/11/12/how-a-long-ago-map-created-racial-boundaries-that-still-define-boston) from the 1930s to 1970s in Boston, which has had long lasting affects in Boston still present today. The goal of the research that led to the creation of this dataset was to study the impact of air quality, but it did not give adequate demonstration of the validity of this assumption. Please know this data set is used for *practice only* and can serve as a good example of why ethical standards are so important for ML models and implementation. [Read more](https://medium.com/@docintangible/racist-data-destruction-113e3eff54a8) on problems existing within this data set and why it is not used for anything other than practicing ML."
      ]
    },
    {
      "cell_type": "markdown",
      "metadata": {
        "id": "x4Xdr0GmO3Wj"
      },
      "source": [
        "Use the following to help load your new data:\n",
        "```\n",
        "boston = datasets.load_boston()\n",
        "df = pd.DataFrame(data=boston.data, columns=boston.feature_names)\n",
        "df['TARGET'] = boston.target\n",
        "df\n",
        "```"
      ]
    },
    {
      "cell_type": "code",
      "execution_count": null,
      "metadata": {
        "colab": {
          "base_uri": "https://localhost:8080/",
          "height": 227
        },
        "id": "3X4RLiyYizVx",
        "outputId": "78516788-e31f-4212-a468-1ec3ca22478d"
      },
      "outputs": [
        {
          "output_type": "error",
          "ename": "NameError",
          "evalue": "ignored",
          "traceback": [
            "\u001b[0;31m---------------------------------------------------------------------------\u001b[0m",
            "\u001b[0;31mNameError\u001b[0m                                 Traceback (most recent call last)",
            "\u001b[0;32m<ipython-input-1-67e58abdce8e>\u001b[0m in \u001b[0;36m<cell line: 1>\u001b[0;34m()\u001b[0m\n\u001b[0;32m----> 1\u001b[0;31m \u001b[0mboston\u001b[0m \u001b[0;34m=\u001b[0m \u001b[0mdatasets\u001b[0m\u001b[0;34m.\u001b[0m\u001b[0mload_boston\u001b[0m\u001b[0;34m(\u001b[0m\u001b[0;34m)\u001b[0m\u001b[0;34m\u001b[0m\u001b[0;34m\u001b[0m\u001b[0m\n\u001b[0m\u001b[1;32m      2\u001b[0m \u001b[0mdf\u001b[0m \u001b[0;34m=\u001b[0m \u001b[0mpd\u001b[0m\u001b[0;34m.\u001b[0m\u001b[0mDataFrame\u001b[0m\u001b[0;34m(\u001b[0m\u001b[0mdata\u001b[0m\u001b[0;34m=\u001b[0m\u001b[0mboston\u001b[0m\u001b[0;34m.\u001b[0m\u001b[0mdata\u001b[0m\u001b[0;34m,\u001b[0m \u001b[0mcolumns\u001b[0m\u001b[0;34m=\u001b[0m\u001b[0mboston\u001b[0m\u001b[0;34m.\u001b[0m\u001b[0mfeature_names\u001b[0m\u001b[0;34m)\u001b[0m\u001b[0;34m\u001b[0m\u001b[0;34m\u001b[0m\u001b[0m\n\u001b[1;32m      3\u001b[0m \u001b[0mdf\u001b[0m\u001b[0;34m[\u001b[0m\u001b[0;34m'TARGET'\u001b[0m\u001b[0;34m]\u001b[0m \u001b[0;34m=\u001b[0m \u001b[0mboston\u001b[0m\u001b[0;34m.\u001b[0m\u001b[0mtarget\u001b[0m\u001b[0;34m\u001b[0m\u001b[0;34m\u001b[0m\u001b[0m\n\u001b[1;32m      4\u001b[0m \u001b[0mdf\u001b[0m\u001b[0;34m\u001b[0m\u001b[0;34m\u001b[0m\u001b[0m\n",
            "\u001b[0;31mNameError\u001b[0m: name 'datasets' is not defined"
          ]
        }
      ],
      "source": [
        "boston = datasets.load_boston()\n",
        "df = pd.DataFrame(data=boston.data, columns=boston.feature_names)\n",
        "df['TARGET'] = boston.target\n",
        "df"
      ]
    },
    {
      "cell_type": "markdown",
      "metadata": {
        "id": "Lf5OrHhNifXL"
      },
      "source": [
        "### **Part \\#2: Decide independent and dependent variables**\n",
        "---\n",
        "##### *Decide which features will be used as the predictors (the X values), and which feature you want to predict (the y values)*\n",
        "\n",
        "\n",
        "We are going to use \"Rooms per dwelling\" (`RM`)and \"Percentage of lower status of the population\" (`LSTAT`) as our dependent variables for predicting `TARGET`. Our target is the median value of owner-occupied homes. **With these values, we are building a housing value predictor for Boston in the 1970s.**"
      ]
    },
    {
      "cell_type": "code",
      "execution_count": null,
      "metadata": {
        "colab": {
          "base_uri": "https://localhost:8080/",
          "height": 424
        },
        "id": "uU0u-IaDizsR",
        "outputId": "eb5a9542-634f-4bf6-f160-252f1dd82f25"
      },
      "outputs": [
        {
          "data": {
            "text/html": [
              "<div>\n",
              "<style scoped>\n",
              "    .dataframe tbody tr th:only-of-type {\n",
              "        vertical-align: middle;\n",
              "    }\n",
              "\n",
              "    .dataframe tbody tr th {\n",
              "        vertical-align: top;\n",
              "    }\n",
              "\n",
              "    .dataframe thead th {\n",
              "        text-align: right;\n",
              "    }\n",
              "</style>\n",
              "<table border=\"1\" class=\"dataframe\">\n",
              "  <thead>\n",
              "    <tr style=\"text-align: right;\">\n",
              "      <th></th>\n",
              "      <th>RM</th>\n",
              "      <th>LSTAT</th>\n",
              "      <th>TARGET</th>\n",
              "    </tr>\n",
              "  </thead>\n",
              "  <tbody>\n",
              "    <tr>\n",
              "      <th>0</th>\n",
              "      <td>6.575</td>\n",
              "      <td>4.98</td>\n",
              "      <td>24.0</td>\n",
              "    </tr>\n",
              "    <tr>\n",
              "      <th>1</th>\n",
              "      <td>6.421</td>\n",
              "      <td>9.14</td>\n",
              "      <td>21.6</td>\n",
              "    </tr>\n",
              "    <tr>\n",
              "      <th>2</th>\n",
              "      <td>7.185</td>\n",
              "      <td>4.03</td>\n",
              "      <td>34.7</td>\n",
              "    </tr>\n",
              "    <tr>\n",
              "      <th>3</th>\n",
              "      <td>6.998</td>\n",
              "      <td>2.94</td>\n",
              "      <td>33.4</td>\n",
              "    </tr>\n",
              "    <tr>\n",
              "      <th>4</th>\n",
              "      <td>7.147</td>\n",
              "      <td>5.33</td>\n",
              "      <td>36.2</td>\n",
              "    </tr>\n",
              "    <tr>\n",
              "      <th>...</th>\n",
              "      <td>...</td>\n",
              "      <td>...</td>\n",
              "      <td>...</td>\n",
              "    </tr>\n",
              "    <tr>\n",
              "      <th>501</th>\n",
              "      <td>6.593</td>\n",
              "      <td>9.67</td>\n",
              "      <td>22.4</td>\n",
              "    </tr>\n",
              "    <tr>\n",
              "      <th>502</th>\n",
              "      <td>6.120</td>\n",
              "      <td>9.08</td>\n",
              "      <td>20.6</td>\n",
              "    </tr>\n",
              "    <tr>\n",
              "      <th>503</th>\n",
              "      <td>6.976</td>\n",
              "      <td>5.64</td>\n",
              "      <td>23.9</td>\n",
              "    </tr>\n",
              "    <tr>\n",
              "      <th>504</th>\n",
              "      <td>6.794</td>\n",
              "      <td>6.48</td>\n",
              "      <td>22.0</td>\n",
              "    </tr>\n",
              "    <tr>\n",
              "      <th>505</th>\n",
              "      <td>6.030</td>\n",
              "      <td>7.88</td>\n",
              "      <td>11.9</td>\n",
              "    </tr>\n",
              "  </tbody>\n",
              "</table>\n",
              "<p>506 rows × 3 columns</p>\n",
              "</div>"
            ],
            "text/plain": [
              "        RM  LSTAT  TARGET\n",
              "0    6.575   4.98    24.0\n",
              "1    6.421   9.14    21.6\n",
              "2    7.185   4.03    34.7\n",
              "3    6.998   2.94    33.4\n",
              "4    7.147   5.33    36.2\n",
              "..     ...    ...     ...\n",
              "501  6.593   9.67    22.4\n",
              "502  6.120   9.08    20.6\n",
              "503  6.976   5.64    23.9\n",
              "504  6.794   6.48    22.0\n",
              "505  6.030   7.88    11.9\n",
              "\n",
              "[506 rows x 3 columns]"
            ]
          },
          "execution_count": 4,
          "metadata": {},
          "output_type": "execute_result"
        }
      ],
      "source": [
        "df[[\"RM\",\"LSTAT\", \"TARGET\"]]"
      ]
    },
    {
      "cell_type": "markdown",
      "metadata": {
        "id": "q_eLEi5MiiPb"
      },
      "source": [
        "### **Part #2.1: Visualize the variables you'll be using**\n",
        "---\n",
        "Create two graphs. One with `LSTAT` and the target, and another with `RM` and the target."
      ]
    },
    {
      "cell_type": "code",
      "execution_count": null,
      "metadata": {
        "colab": {
          "base_uri": "https://localhost:8080/",
          "height": 350
        },
        "id": "BxDxSgcoi0Kg",
        "outputId": "70e00fc9-8080-479b-ffe8-fee04c56e412"
      },
      "outputs": [
        {
          "data": {
            "image/png": "[encoded data removed]",
            "text/plain": [
              "<Figure size 1440x360 with 2 Axes>"
            ]
          },
          "metadata": {
            "needs_background": "light"
          },
          "output_type": "display_data"
        }
      ],
      "source": [
        "plt.figure(figsize=(20, 5))\n",
        "\n",
        "features = ['LSTAT', 'RM']\n",
        "target = df['TARGET']\n",
        "\n",
        "for i, col in enumerate(features):\n",
        "    plt.subplot(1, len(features) , i+1)\n",
        "    x = df[col]\n",
        "    y = target\n",
        "    plt.scatter(x, y, marker='o')\n",
        "    plt.title(col)\n",
        "    plt.xlabel(col)\n",
        "    plt.ylabel('target')"
      ]
    },
    {
      "cell_type": "markdown",
      "metadata": {
        "id": "uF-s6K6IilkM"
      },
      "source": [
        "### **Part \\#3: Split data into training and testing data**\n",
        "---\n"
      ]
    },
    {
      "cell_type": "code",
      "execution_count": null,
      "metadata": {
        "id": "hg_kivmJi0hA"
      },
      "outputs": [],
      "source": [
        "#X_train, X_test, y_train, y_test = model_selection.train_test_split(df[[\"RM\", \"LSTAT\"]], df[[\"TARGET\"]], test_size = 0.2, random_state=42)\n",
        "\n",
        "\n",
        "X_train, X_test, y_train, y_test = model_selection.train_test_split(df[[\"RM\", \"LSTAT\"]], df[[\"TARGET\"]], test_size=0.2, random_state=42)"
      ]
    },
    {
      "cell_type": "markdown",
      "metadata": {
        "id": "db-f6jRvio38"
      },
      "source": [
        "### **Step \\#4: Import an ML algorithm (Using Sklearn algorithms)**\n",
        "---\n"
      ]
    },
    {
      "cell_type": "code",
      "execution_count": null,
      "metadata": {
        "id": "aZPn1IAIixnU"
      },
      "outputs": [],
      "source": [
        "# import that LinearRegression algorithm\n",
        "from sklearn.linear_model import LinearRegression"
      ]
    },
    {
      "cell_type": "markdown",
      "metadata": {
        "id": "llzcCUibmVGM"
      },
      "source": [
        "### **Step \\#5: Initialize your model**\n",
        "---"
      ]
    },
    {
      "cell_type": "code",
      "execution_count": null,
      "metadata": {
        "id": "Xr0JvwcgDYKr"
      },
      "outputs": [],
      "source": [
        "# initialize\n",
        "reg = LinearRegression()"
      ]
    },
    {
      "cell_type": "markdown",
      "metadata": {
        "id": "5o8GxzmYDdv3"
      },
      "source": [
        "### **Step \\#6: Fit your model and make a prediction**\n",
        "---"
      ]
    },
    {
      "cell_type": "code",
      "execution_count": null,
      "metadata": {
        "id": "dMEVWZ33DcSh"
      },
      "outputs": [],
      "source": [
        "# fit\n",
        "reg.fit(X_train, y_train)\n",
        "# predict\n",
        "pred = reg.predict(X_test)"
      ]
    },
    {
      "cell_type": "markdown",
      "metadata": {
        "id": "24h5chNSDQpE"
      },
      "source": [
        "### **Step \\#7: Visualize Data and Linear Regeression**\n",
        "---\n",
        "Use `y_test` and your `prediction` from the model to create a scatter plot. Then use the following line to visualize where a correct prediction would be:\n",
        "```\n",
        "plt.plot([0, 50], [0, 50], '--k', label=\"Correct prediction\")\n",
        "```"
      ]
    },
    {
      "cell_type": "code",
      "execution_count": null,
      "metadata": {
        "colab": {
          "base_uri": "https://localhost:8080/",
          "height": 585
        },
        "id": "AkCjm5-JmaLr",
        "outputId": "d5f5d0b1-5084-4320-e881-c0e78f0c3fd3"
      },
      "outputs": [
        {
          "data": {
            "image/png": "[encoded data removed]",
            "text/plain": [
              "<Figure size 576x576 with 1 Axes>"
            ]
          },
          "metadata": {
            "needs_background": "light"
          },
          "output_type": "display_data"
        }
      ],
      "source": [
        "plt.figure(figsize=(8, 8))\n",
        "plt.scatter(y_test, pred)\n",
        "plt.plot([0, 50], [0, 50], '--k', label=\"Correct prediction\")\n",
        "plt.axis('tight')\n",
        "plt.xlabel('True price ($1000s)')\n",
        "plt.ylabel('Predicted price ($1000s)')\n",
        "plt.title(\"Real vs predicted house prices in Boston\")\n",
        "plt.legend()\n",
        "plt.tight_layout()"
      ]
    },
    {
      "cell_type": "markdown",
      "metadata": {
        "id": "s3N1FnHlLy5n"
      },
      "source": [
        "### **Step \\#8: Use the following code to test the accuracy of your model**\n",
        "---"
      ]
    },
    {
      "cell_type": "code",
      "execution_count": null,
      "metadata": {
        "colab": {
          "base_uri": "https://localhost:8080/"
        },
        "id": "AHcYv6SGLzAe",
        "outputId": "e0be0308-c640-45e9-a03b-34bcfd482e87"
      },
      "outputs": [
        {
          "name": "stdout",
          "output_type": "stream",
          "text": [
            "mean squared:  31.243290601783627\n"
          ]
        }
      ],
      "source": [
        "from sklearn.metrics import mean_squared_error\n",
        "print('mean squared: ', mean_squared_error(y_test, pred))"
      ]
    },
    {
      "cell_type": "markdown",
      "metadata": {
        "id": "UqhuMqqCQy59"
      },
      "source": [
        "### **Step \\#9: Use the model**\n",
        "---\n",
        "Using the model we created, predict the price of two houses in Boston.\n",
        "\n",
        "House 1:  7 `RM` and `LSTAT` is 5.0%\n",
        "\n",
        "House 2:  6 `RM` and `LSTAT` is 4.0%\n",
        "\n",
        "Note, you must create a dataframe containing with the information of the new houses:\n",
        "\n",
        "```python\n",
        "new_houses = pd.DataFrame(enter_new_house_data_here, columns =[\"RM\", \"LSTAT\"])\n",
        "```\n",
        "\n",
        "This `new_houses` variable can then be placed directly into the `model.predict()` function!"
      ]
    },
    {
      "cell_type": "code",
      "execution_count": null,
      "metadata": {
        "colab": {
          "base_uri": "https://localhost:8080/"
        },
        "id": "6JBDlLDgQ2dC",
        "outputId": "a6db4890-5f37-4c41-fd44-fbdcf43a6b1a"
      },
      "outputs": [
        {
          "name": "stdout",
          "output_type": "stream",
          "text": [
            "prediction:  [[31.25202152]\n",
            " [26.41942131]]\n"
          ]
        }
      ],
      "source": [
        "new_houses = pd.DataFrame([[7,5], [6,4]], columns =[\"RM\", \"LSTAT\"])\n",
        "new_prediction = reg.predict(new_houses)\n",
        "print('prediction: ', new_prediction)"
      ]
    },
    {
      "cell_type": "markdown",
      "metadata": {
        "id": "A0CMPq525kSi"
      },
      "source": [
        "## Part 2: Independent Work\n",
        "---"
      ]
    },
    {
      "cell_type": "markdown",
      "metadata": {
        "id": "2uJWpTsiEO1C"
      },
      "source": [
        "This dataset contains data from diabetic patients and features such as their BMI, age , blood pressure and glucose levels that are useful in predicting the diabetes disease progression in patients. We will be looking at these variables that will be used to help predict disease progression in diabetic patients."
      ]
    },
    {
      "cell_type": "markdown",
      "metadata": {
        "id": "p5iUBJ9h6b3x"
      },
      "source": [
        "### **Step \\#1: Load the Diabetes dataset from sklearn**\n",
        "---"
      ]
    },
    {
      "cell_type": "markdown",
      "metadata": {
        "id": "88PIfv9d6g97"
      },
      "source": [
        "The following code will load the data. Turn this into a date frame.\n",
        "```python\n",
        "diabetes = datasets.load_diabetes()\n",
        "```\n",
        "Add a column called `TARGET` with the target data (`diabetes.target`).  In this case, the target is a measure for disease progression."
      ]
    },
    {
      "cell_type": "code",
      "execution_count": null,
      "metadata": {
        "id": "MimCkc1c6hKC",
        "outputId": "41930ea5-f500-4713-a382-6f9143d60032"
      },
      "outputs": [
        {
          "data": {
            "text/html": [
              "<div>\n",
              "<style scoped>\n",
              "    .dataframe tbody tr th:only-of-type {\n",
              "        vertical-align: middle;\n",
              "    }\n",
              "\n",
              "    .dataframe tbody tr th {\n",
              "        vertical-align: top;\n",
              "    }\n",
              "\n",
              "    .dataframe thead th {\n",
              "        text-align: right;\n",
              "    }\n",
              "</style>\n",
              "<table border=\"1\" class=\"dataframe\">\n",
              "  <thead>\n",
              "    <tr style=\"text-align: right;\">\n",
              "      <th></th>\n",
              "      <th>age</th>\n",
              "      <th>sex</th>\n",
              "      <th>bmi</th>\n",
              "      <th>bp</th>\n",
              "      <th>s1</th>\n",
              "      <th>s2</th>\n",
              "      <th>s3</th>\n",
              "      <th>s4</th>\n",
              "      <th>s5</th>\n",
              "      <th>s6</th>\n",
              "      <th>TARGET</th>\n",
              "    </tr>\n",
              "  </thead>\n",
              "  <tbody>\n",
              "    <tr>\n",
              "      <th>0</th>\n",
              "      <td>0.038076</td>\n",
              "      <td>0.050680</td>\n",
              "      <td>0.061696</td>\n",
              "      <td>0.021872</td>\n",
              "      <td>-0.044223</td>\n",
              "      <td>-0.034821</td>\n",
              "      <td>-0.043401</td>\n",
              "      <td>-0.002592</td>\n",
              "      <td>0.019908</td>\n",
              "      <td>-0.017646</td>\n",
              "      <td>151.0</td>\n",
              "    </tr>\n",
              "    <tr>\n",
              "      <th>1</th>\n",
              "      <td>-0.001882</td>\n",
              "      <td>-0.044642</td>\n",
              "      <td>-0.051474</td>\n",
              "      <td>-0.026328</td>\n",
              "      <td>-0.008449</td>\n",
              "      <td>-0.019163</td>\n",
              "      <td>0.074412</td>\n",
              "      <td>-0.039493</td>\n",
              "      <td>-0.068330</td>\n",
              "      <td>-0.092204</td>\n",
              "      <td>75.0</td>\n",
              "    </tr>\n",
              "    <tr>\n",
              "      <th>2</th>\n",
              "      <td>0.085299</td>\n",
              "      <td>0.050680</td>\n",
              "      <td>0.044451</td>\n",
              "      <td>-0.005671</td>\n",
              "      <td>-0.045599</td>\n",
              "      <td>-0.034194</td>\n",
              "      <td>-0.032356</td>\n",
              "      <td>-0.002592</td>\n",
              "      <td>0.002864</td>\n",
              "      <td>-0.025930</td>\n",
              "      <td>141.0</td>\n",
              "    </tr>\n",
              "    <tr>\n",
              "      <th>3</th>\n",
              "      <td>-0.089063</td>\n",
              "      <td>-0.044642</td>\n",
              "      <td>-0.011595</td>\n",
              "      <td>-0.036656</td>\n",
              "      <td>0.012191</td>\n",
              "      <td>0.024991</td>\n",
              "      <td>-0.036038</td>\n",
              "      <td>0.034309</td>\n",
              "      <td>0.022692</td>\n",
              "      <td>-0.009362</td>\n",
              "      <td>206.0</td>\n",
              "    </tr>\n",
              "    <tr>\n",
              "      <th>4</th>\n",
              "      <td>0.005383</td>\n",
              "      <td>-0.044642</td>\n",
              "      <td>-0.036385</td>\n",
              "      <td>0.021872</td>\n",
              "      <td>0.003935</td>\n",
              "      <td>0.015596</td>\n",
              "      <td>0.008142</td>\n",
              "      <td>-0.002592</td>\n",
              "      <td>-0.031991</td>\n",
              "      <td>-0.046641</td>\n",
              "      <td>135.0</td>\n",
              "    </tr>\n",
              "    <tr>\n",
              "      <th>...</th>\n",
              "      <td>...</td>\n",
              "      <td>...</td>\n",
              "      <td>...</td>\n",
              "      <td>...</td>\n",
              "      <td>...</td>\n",
              "      <td>...</td>\n",
              "      <td>...</td>\n",
              "      <td>...</td>\n",
              "      <td>...</td>\n",
              "      <td>...</td>\n",
              "      <td>...</td>\n",
              "    </tr>\n",
              "    <tr>\n",
              "      <th>437</th>\n",
              "      <td>0.041708</td>\n",
              "      <td>0.050680</td>\n",
              "      <td>0.019662</td>\n",
              "      <td>0.059744</td>\n",
              "      <td>-0.005697</td>\n",
              "      <td>-0.002566</td>\n",
              "      <td>-0.028674</td>\n",
              "      <td>-0.002592</td>\n",
              "      <td>0.031193</td>\n",
              "      <td>0.007207</td>\n",
              "      <td>178.0</td>\n",
              "    </tr>\n",
              "    <tr>\n",
              "      <th>438</th>\n",
              "      <td>-0.005515</td>\n",
              "      <td>0.050680</td>\n",
              "      <td>-0.015906</td>\n",
              "      <td>-0.067642</td>\n",
              "      <td>0.049341</td>\n",
              "      <td>0.079165</td>\n",
              "      <td>-0.028674</td>\n",
              "      <td>0.034309</td>\n",
              "      <td>-0.018118</td>\n",
              "      <td>0.044485</td>\n",
              "      <td>104.0</td>\n",
              "    </tr>\n",
              "    <tr>\n",
              "      <th>439</th>\n",
              "      <td>0.041708</td>\n",
              "      <td>0.050680</td>\n",
              "      <td>-0.015906</td>\n",
              "      <td>0.017282</td>\n",
              "      <td>-0.037344</td>\n",
              "      <td>-0.013840</td>\n",
              "      <td>-0.024993</td>\n",
              "      <td>-0.011080</td>\n",
              "      <td>-0.046879</td>\n",
              "      <td>0.015491</td>\n",
              "      <td>132.0</td>\n",
              "    </tr>\n",
              "    <tr>\n",
              "      <th>440</th>\n",
              "      <td>-0.045472</td>\n",
              "      <td>-0.044642</td>\n",
              "      <td>0.039062</td>\n",
              "      <td>0.001215</td>\n",
              "      <td>0.016318</td>\n",
              "      <td>0.015283</td>\n",
              "      <td>-0.028674</td>\n",
              "      <td>0.026560</td>\n",
              "      <td>0.044528</td>\n",
              "      <td>-0.025930</td>\n",
              "      <td>220.0</td>\n",
              "    </tr>\n",
              "    <tr>\n",
              "      <th>441</th>\n",
              "      <td>-0.045472</td>\n",
              "      <td>-0.044642</td>\n",
              "      <td>-0.073030</td>\n",
              "      <td>-0.081414</td>\n",
              "      <td>0.083740</td>\n",
              "      <td>0.027809</td>\n",
              "      <td>0.173816</td>\n",
              "      <td>-0.039493</td>\n",
              "      <td>-0.004220</td>\n",
              "      <td>0.003064</td>\n",
              "      <td>57.0</td>\n",
              "    </tr>\n",
              "  </tbody>\n",
              "</table>\n",
              "<p>442 rows × 11 columns</p>\n",
              "</div>"
            ],
            "text/plain": [
              "          age       sex       bmi        bp        s1        s2        s3  \\\n",
              "0    0.038076  0.050680  0.061696  0.021872 -0.044223 -0.034821 -0.043401   \n",
              "1   -0.001882 -0.044642 -0.051474 -0.026328 -0.008449 -0.019163  0.074412   \n",
              "2    0.085299  0.050680  0.044451 -0.005671 -0.045599 -0.034194 -0.032356   \n",
              "3   -0.089063 -0.044642 -0.011595 -0.036656  0.012191  0.024991 -0.036038   \n",
              "4    0.005383 -0.044642 -0.036385  0.021872  0.003935  0.015596  0.008142   \n",
              "..        ...       ...       ...       ...       ...       ...       ...   \n",
              "437  0.041708  0.050680  0.019662  0.059744 -0.005697 -0.002566 -0.028674   \n",
              "438 -0.005515  0.050680 -0.015906 -0.067642  0.049341  0.079165 -0.028674   \n",
              "439  0.041708  0.050680 -0.015906  0.017282 -0.037344 -0.013840 -0.024993   \n",
              "440 -0.045472 -0.044642  0.039062  0.001215  0.016318  0.015283 -0.028674   \n",
              "441 -0.045472 -0.044642 -0.073030 -0.081414  0.083740  0.027809  0.173816   \n",
              "\n",
              "           s4        s5        s6  TARGET  \n",
              "0   -0.002592  0.019908 -0.017646   151.0  \n",
              "1   -0.039493 -0.068330 -0.092204    75.0  \n",
              "2   -0.002592  0.002864 -0.025930   141.0  \n",
              "3    0.034309  0.022692 -0.009362   206.0  \n",
              "4   -0.002592 -0.031991 -0.046641   135.0  \n",
              "..        ...       ...       ...     ...  \n",
              "437 -0.002592  0.031193  0.007207   178.0  \n",
              "438  0.034309 -0.018118  0.044485   104.0  \n",
              "439 -0.011080 -0.046879  0.015491   132.0  \n",
              "440  0.026560  0.044528 -0.025930   220.0  \n",
              "441 -0.039493 -0.004220  0.003064    57.0  \n",
              "\n",
              "[442 rows x 11 columns]"
            ]
          },
          "execution_count": 6,
          "metadata": {},
          "output_type": "execute_result"
        }
      ],
      "source": [
        "diabetes = datasets.load_diabetes()\n",
        "df = pd.DataFrame(data=diabetes.data, columns=diabetes.feature_names)\n",
        "df['TARGET'] = diabetes.target\n",
        "df"
      ]
    },
    {
      "cell_type": "markdown",
      "metadata": {
        "id": "E5z0mLEQF565"
      },
      "source": [
        "### **Step \\#2: Decide independent and dependent variables**\n",
        "---\n",
        "##### *Decide which features will be used as the predictors (the X values), and which feature you want to predict (the y values)*\n",
        "\n",
        "Here we would like to use the `\"age\"` `\"bmi\"` and `\"bp\"` columns as our dependent variables and the `Target` as our independent variable.\n",
        "\n",
        "We are building a predictor of disease progression.\n"
      ]
    },
    {
      "cell_type": "code",
      "execution_count": null,
      "metadata": {
        "id": "QQcn56UyGHS2",
        "outputId": "ef1fed46-1b55-43e5-a790-71d56af93bb0"
      },
      "outputs": [
        {
          "data": {
            "text/html": [
              "<div>\n",
              "<style scoped>\n",
              "    .dataframe tbody tr th:only-of-type {\n",
              "        vertical-align: middle;\n",
              "    }\n",
              "\n",
              "    .dataframe tbody tr th {\n",
              "        vertical-align: top;\n",
              "    }\n",
              "\n",
              "    .dataframe thead th {\n",
              "        text-align: right;\n",
              "    }\n",
              "</style>\n",
              "<table border=\"1\" class=\"dataframe\">\n",
              "  <thead>\n",
              "    <tr style=\"text-align: right;\">\n",
              "      <th></th>\n",
              "      <th>age</th>\n",
              "      <th>bmi</th>\n",
              "      <th>bp</th>\n",
              "      <th>TARGET</th>\n",
              "    </tr>\n",
              "  </thead>\n",
              "  <tbody>\n",
              "    <tr>\n",
              "      <th>0</th>\n",
              "      <td>0.038076</td>\n",
              "      <td>0.061696</td>\n",
              "      <td>0.021872</td>\n",
              "      <td>151.0</td>\n",
              "    </tr>\n",
              "    <tr>\n",
              "      <th>1</th>\n",
              "      <td>-0.001882</td>\n",
              "      <td>-0.051474</td>\n",
              "      <td>-0.026328</td>\n",
              "      <td>75.0</td>\n",
              "    </tr>\n",
              "    <tr>\n",
              "      <th>2</th>\n",
              "      <td>0.085299</td>\n",
              "      <td>0.044451</td>\n",
              "      <td>-0.005671</td>\n",
              "      <td>141.0</td>\n",
              "    </tr>\n",
              "    <tr>\n",
              "      <th>3</th>\n",
              "      <td>-0.089063</td>\n",
              "      <td>-0.011595</td>\n",
              "      <td>-0.036656</td>\n",
              "      <td>206.0</td>\n",
              "    </tr>\n",
              "    <tr>\n",
              "      <th>4</th>\n",
              "      <td>0.005383</td>\n",
              "      <td>-0.036385</td>\n",
              "      <td>0.021872</td>\n",
              "      <td>135.0</td>\n",
              "    </tr>\n",
              "    <tr>\n",
              "      <th>...</th>\n",
              "      <td>...</td>\n",
              "      <td>...</td>\n",
              "      <td>...</td>\n",
              "      <td>...</td>\n",
              "    </tr>\n",
              "    <tr>\n",
              "      <th>437</th>\n",
              "      <td>0.041708</td>\n",
              "      <td>0.019662</td>\n",
              "      <td>0.059744</td>\n",
              "      <td>178.0</td>\n",
              "    </tr>\n",
              "    <tr>\n",
              "      <th>438</th>\n",
              "      <td>-0.005515</td>\n",
              "      <td>-0.015906</td>\n",
              "      <td>-0.067642</td>\n",
              "      <td>104.0</td>\n",
              "    </tr>\n",
              "    <tr>\n",
              "      <th>439</th>\n",
              "      <td>0.041708</td>\n",
              "      <td>-0.015906</td>\n",
              "      <td>0.017282</td>\n",
              "      <td>132.0</td>\n",
              "    </tr>\n",
              "    <tr>\n",
              "      <th>440</th>\n",
              "      <td>-0.045472</td>\n",
              "      <td>0.039062</td>\n",
              "      <td>0.001215</td>\n",
              "      <td>220.0</td>\n",
              "    </tr>\n",
              "    <tr>\n",
              "      <th>441</th>\n",
              "      <td>-0.045472</td>\n",
              "      <td>-0.073030</td>\n",
              "      <td>-0.081414</td>\n",
              "      <td>57.0</td>\n",
              "    </tr>\n",
              "  </tbody>\n",
              "</table>\n",
              "<p>442 rows × 4 columns</p>\n",
              "</div>"
            ],
            "text/plain": [
              "          age       bmi        bp  TARGET\n",
              "0    0.038076  0.061696  0.021872   151.0\n",
              "1   -0.001882 -0.051474 -0.026328    75.0\n",
              "2    0.085299  0.044451 -0.005671   141.0\n",
              "3   -0.089063 -0.011595 -0.036656   206.0\n",
              "4    0.005383 -0.036385  0.021872   135.0\n",
              "..        ...       ...       ...     ...\n",
              "437  0.041708  0.019662  0.059744   178.0\n",
              "438 -0.005515 -0.015906 -0.067642   104.0\n",
              "439  0.041708 -0.015906  0.017282   132.0\n",
              "440 -0.045472  0.039062  0.001215   220.0\n",
              "441 -0.045472 -0.073030 -0.081414    57.0\n",
              "\n",
              "[442 rows x 4 columns]"
            ]
          },
          "execution_count": 7,
          "metadata": {},
          "output_type": "execute_result"
        }
      ],
      "source": [
        "df[[\"age\",\"bmi\", \"bp\", \"TARGET\"]]"
      ]
    },
    {
      "cell_type": "markdown",
      "metadata": {
        "id": "lMDn8ONk600c"
      },
      "source": [
        "### **Step \\#3: Split the data into train and test data**\n",
        "---\n",
        "Use `age`, `bmi`, and `bp` for our independent variables."
      ]
    },
    {
      "cell_type": "code",
      "execution_count": null,
      "metadata": {
        "id": "DcPqQ3sb64l9"
      },
      "outputs": [],
      "source": [
        "X_train, X_test, y_train, y_test = model_selection.train_test_split(df[[\"age\", \"bmi\", \"bp\"]], df[[\"TARGET\"]], test_size=0.2, random_state=42)"
      ]
    },
    {
      "cell_type": "markdown",
      "metadata": {
        "id": "5ADG4KRM69dJ"
      },
      "source": [
        "### **Step \\#4: Import your model**\n",
        "---\n"
      ]
    },
    {
      "cell_type": "code",
      "execution_count": null,
      "metadata": {
        "id": "iT6gQFeLG8Ea"
      },
      "outputs": [],
      "source": [
        "from sklearn.linear_model import LinearRegression"
      ]
    },
    {
      "cell_type": "markdown",
      "metadata": {
        "id": "PFUiA67CHAMc"
      },
      "source": [
        "### **Step \\#5: Initialize your model**\n",
        "---"
      ]
    },
    {
      "cell_type": "code",
      "execution_count": null,
      "metadata": {
        "id": "2dybrAieHAoJ"
      },
      "outputs": [],
      "source": [
        "reg = LinearRegression()"
      ]
    },
    {
      "cell_type": "markdown",
      "metadata": {
        "id": "xMnlj4W0HF9U"
      },
      "source": [
        "### **Step \\#6: Fit your model and make a prediction**\n",
        "---"
      ]
    },
    {
      "cell_type": "code",
      "execution_count": null,
      "metadata": {
        "id": "9bbjacst7DL5"
      },
      "outputs": [],
      "source": [
        "# fit\n",
        "reg.fit(X_train, y_train)\n",
        "# predict\n",
        "pred = reg.predict(X_test)"
      ]
    },
    {
      "cell_type": "markdown",
      "metadata": {
        "id": "6DmQtTt9HNJE"
      },
      "source": [
        "### **Step \\#7: Visualize Data and Linear Regeression**\n",
        "---\n",
        "Use `y_test` and your `prediction` from the model to create a scatter plot. Then use the following line to visualize where a correct prediction would be.\n",
        "```\n",
        "plt.plot([0, 300], [0, 300], '--k', label=\"Correct prediction\")\n",
        "```"
      ]
    },
    {
      "cell_type": "code",
      "execution_count": null,
      "metadata": {
        "id": "ZXX56Q1rHRM-",
        "outputId": "73339e8d-d575-422f-b63c-95f39bc43d34"
      },
      "outputs": [
        {
          "data": {
            "image/png": "[encoded data removed]",
            "text/plain": [
              "<Figure size 576x576 with 1 Axes>"
            ]
          },
          "metadata": {
            "needs_background": "light"
          },
          "output_type": "display_data"
        }
      ],
      "source": [
        "plt.figure(figsize=(8, 8))\n",
        "plt.scatter(y_test, pred)\n",
        "plt.plot([0, 300], [0, 300], '--k', label=\"Correct prediction\")\n",
        "plt.axis('tight')\n",
        "plt.xlabel('True condition')\n",
        "plt.ylabel('Predicted condidion')\n",
        "plt.title(\"Real vs predicted diabetes status\")\n",
        "plt.legend()\n",
        "plt.tight_layout()"
      ]
    },
    {
      "cell_type": "markdown",
      "metadata": {
        "id": "9hqWuSqc7Tpp"
      },
      "source": [
        "### **Step \\#8 (Given code): Use the following code to test the accuracy of your model**\n",
        "---"
      ]
    },
    {
      "cell_type": "code",
      "execution_count": null,
      "metadata": {
        "id": "JDOKhwf_7ZvL",
        "outputId": "2deaaa13-29a8-4460-b581-4826430e748b"
      },
      "outputs": [
        {
          "name": "stdout",
          "output_type": "stream",
          "text": [
            "mean squared:  3756.852737441201\n"
          ]
        }
      ],
      "source": [
        "from sklearn.metrics import mean_squared_error\n",
        "print('mean squared: ', mean_squared_error(y_test, pred))"
      ]
    },
    {
      "cell_type": "markdown",
      "metadata": {
        "id": "kKm0SpTVQMkn"
      },
      "source": [
        "### **Step \\#9: Use the model**\n",
        "---\n",
        "Using the model we created, predict the disease progression of two new patients.\n",
        "\n",
        "Patient 1:  0.0045 `age` 0.053 `bmi` 0.014 `bp`\n",
        "\n",
        "Patient 2:  0.0039 `age` -0.012 `bmi` 0.018 `bp`\n",
        "\n",
        "Note, you must create a dataframe containing with the information of the new patients:\n",
        "\n",
        "```python\n",
        "new_patient_data = pd.DataFrame(new_patient_data_here, columns =[\"age\", \"bmi\", \"bp\"])\n",
        "```"
      ]
    },
    {
      "cell_type": "code",
      "execution_count": null,
      "metadata": {
        "id": "GTtU_xbJQ0QX",
        "outputId": "4614d966-8708-4bf6-ceb2-4a41deac1d5a"
      },
      "outputs": [
        {
          "name": "stdout",
          "output_type": "stream",
          "text": [
            "prediction:  [[201.6217164 ]\n",
            " [148.76638393]]\n"
          ]
        }
      ],
      "source": [
        "new_progression = pd.DataFrame([[0.0045,0.053,0.014], [0.0039,-0.012,0.018]], columns =[\"age\", \"bmi\", \"bp\"])\n",
        "new_prediction = reg.predict(new_progression)\n",
        "print('prediction: ', new_prediction)"
      ]
    },
    {
      "cell_type": "markdown",
      "metadata": {
        "id": "aF6K9Aot78B8"
      },
      "source": [
        "## Part 3:  Additional Practice\n",
        "---"
      ]
    },
    {
      "cell_type": "markdown",
      "metadata": {
        "id": "8i5Uo0oJHrr1"
      },
      "source": [
        "**In this problem, please complete all of the following steps:**\n",
        "\n",
        "1. Load the California Hosuing data set from sklearn (code provided)\n",
        "2. Decide independent and dependent variables (look at the data's target)\n",
        "3. Split the data into training and testing data (You can use all columns except the target for the independent variables for now).\n",
        "4. Import your model\n",
        "5. Initialize your model\n",
        "6. Fit your model and make a prediction\n",
        "7. Visualize your prediction versus actual data\n",
        "8. Use a method of your choice to calculate accuracy.\n",
        "9. Use the model to explore different feature values and create predictions.\n",
        "10. Rather than use all of the columns, play around with differebnt combinations to find a potentially better model."
      ]
    },
    {
      "cell_type": "markdown",
      "metadata": {
        "id": "FoNB9Fd9J8k4"
      },
      "source": [
        "This dataset was derived from the 1990 U.S. census, using one row per census block group. A block group is the smallest geographical unit for which the U.S. Census Bureau publishes sample data (a block group typically has a population of 600 to 3,000 people)\n",
        "\n",
        "The target variable is the median house value for California districts, expressed in hundreds of thousands of dollars ($100,000). We will use the data o help make a model that will predict the meidan house value for California in 1990.\n",
        "\n",
        "**Predict the median house value of a district that has: 7.2 average rooms 1.5 average bedrooms, 51 years old, located at 38.1 Lat, -121.08 Lon**"
      ]
    },
    {
      "cell_type": "markdown",
      "metadata": {
        "id": "OqZhjLY18q7Q"
      },
      "source": [
        "Use the following code:\n",
        "\n",
        "```python\n",
        "from sklearn.metrics import mean_squared_error\n",
        "from sklearn.datasets import fetch_california_housing\n",
        "cali_data = fetch_california_housing()\n",
        "df = pd.DataFrame(data=cali_data.data, columns=cali_data.feature_names)\n",
        "df['TARGET'] = cali_data.target\n",
        "```"
      ]
    },
    {
      "cell_type": "code",
      "execution_count": null,
      "metadata": {
        "id": "a0Zp2GECIZUs"
      },
      "outputs": [],
      "source": []
    },
    {
      "cell_type": "code",
      "execution_count": null,
      "metadata": {
        "id": "4uyFHNOb7JtB"
      },
      "outputs": [],
      "source": []
    },
    {
      "cell_type": "markdown",
      "metadata": {
        "id": "yt29TPJXhU9Q"
      },
      "source": [
        "---\n",
        "Copyright, The Coding School 2022"
      ]
    }
  ],
  "metadata": {
    "colab": {
      "provenance": []
    },
    "kernelspec": {
      "display_name": "conda_python3",
      "language": "python",
      "name": "conda_python3"
    },
    "language_info": {
      "codemirror_mode": {
        "name": "ipython",
        "version": 3
      },
      "file_extension": ".py",
      "mimetype": "text/x-python",
      "name": "python",
      "nbconvert_exporter": "python",
      "pygments_lexer": "ipython3",
      "version": "3.8.12"
    }
  },
  "nbformat": 4,
  "nbformat_minor": 0
}