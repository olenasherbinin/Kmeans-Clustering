{
  "nbformat": 4,
  "nbformat_minor": 0,
  "metadata": {
    "colab": {
      "provenance": [],
      "collapsed_sections": [
        "2dLZn5xT4w0p"
      ]
    },
    "kernelspec": {
      "name": "python3",
      "display_name": "Python 3"
    },
    "language_info": {
      "name": "python"
    }
  },
  "cells": [
    {
      "cell_type": "markdown",
      "source": [
        "# Lab #1.3: Data Visualization\n",
        "---"
      ],
      "metadata": {
        "id": "FjlA9FX-d-Su"
      }
    },
    {
      "cell_type": "markdown",
      "source": [
        "**Before starting, run the code below.**"
      ],
      "metadata": {
        "id": "iFgM-WQfeKZs"
      }
    },
    {
      "cell_type": "code",
      "source": [
        "# libraries needed\n",
        "import numpy as np\n",
        "import matplotlib.pyplot as plt"
      ],
      "metadata": {
        "id": "rXVQqqboeTcU"
      },
      "execution_count": null,
      "outputs": []
    },
    {
      "cell_type": "markdown",
      "source": [
        "## **Section 1: Review**\n",
        "---"
      ],
      "metadata": {
        "id": "GnegwyO3eadE"
      }
    },
    {
      "cell_type": "markdown",
      "source": [
        "###**Section 1.1: Review of Scatterplots**\n",
        "---"
      ],
      "metadata": {
        "id": "E3gmwxJendJW"
      }
    },
    {
      "cell_type": "markdown",
      "source": [
        "#### **Problem #1**\n",
        "\n",
        "Create a scatterplot given the array `x_range` and array `y_range`."
      ],
      "metadata": {
        "id": "NZiA0LHpfqDG"
      }
    },
    {
      "cell_type": "code",
      "source": [
        "x_range = np.random.randint(400, size=50)\n",
        "y_range = np.random.randint(400, size=50)\n",
        "\n",
        "# add scatterplot"
      ],
      "metadata": {
        "id": "lYKmR9WIgMsA"
      },
      "execution_count": null,
      "outputs": []
    },
    {
      "cell_type": "markdown",
      "source": [
        "##### **Possible Solution**"
      ],
      "metadata": {
        "id": "aSC49BSSgW3S"
      }
    },
    {
      "cell_type": "code",
      "source": [
        "plt.scatter(x_range, y_range)\n",
        "plt.show()"
      ],
      "metadata": {
        "colab": {
          "base_uri": "https://localhost:8080/",
          "height": 265
        },
        "id": "gHN7mJk8iFgU",
        "outputId": "b184ad33-4598-41cd-bd8e-563202730738"
      },
      "execution_count": null,
      "outputs": [
        {
          "output_type": "display_data",
          "data": {
            "text/plain": [
              "<Figure size 432x288 with 1 Axes>"
            ],
            "image/png": "[encoded data removed]"
          },
          "metadata": {
            "needs_background": "light"
          }
        }
      ]
    },
    {
      "cell_type": "markdown",
      "source": [
        "#### **Problem #2**\n",
        "\n",
        "Given the graph you've just created, add a title, 'Random Variable Vs. Random Variable', to the graph. Change the color to red.\n",
        "\n",
        "\n",
        "\n",
        "\n"
      ],
      "metadata": {
        "id": "clW0k0R_iRO2"
      }
    },
    {
      "cell_type": "code",
      "source": [
        "x_range = np.random.randint(400, size=50)\n",
        "y_range = np.random.randint(400, size=50)\n",
        "\n",
        "# TODO. Replace with code."
      ],
      "metadata": {
        "id": "675sZkWlirIZ"
      },
      "execution_count": null,
      "outputs": []
    },
    {
      "cell_type": "markdown",
      "source": [
        "##### **Possible Solution**"
      ],
      "metadata": {
        "id": "lLF0_B9hj_pa"
      }
    },
    {
      "cell_type": "code",
      "source": [
        "plt.title('Random Variable Vs. Random Variable')\n",
        "plt.scatter(x_range, y_range, color='red')\n",
        "plt.show()"
      ],
      "metadata": {
        "id": "UyaE1T1UkADc",
        "colab": {
          "base_uri": "https://localhost:8080/",
          "height": 281
        },
        "outputId": "d685e5b0-aa37-4490-9ccf-aedd95af319c"
      },
      "execution_count": null,
      "outputs": [
        {
          "output_type": "display_data",
          "data": {
            "text/plain": [
              "<Figure size 432x288 with 1 Axes>"
            ],
            "image/png": "[encoded data removed]"
          },
          "metadata": {
            "needs_background": "light"
          }
        }
      ]
    },
    {
      "cell_type": "markdown",
      "source": [
        "#### **Problem #3**\n",
        "\n",
        "Given the ranges `birth_year` and `compsci_degrees`, visualize the relationship between computer science degrees and year of birth of college students at MIT. Make each marker purple."
      ],
      "metadata": {
        "id": "9yqfNCscoSpQ"
      }
    },
    {
      "cell_type": "code",
      "source": [
        "birth_year = np.arange(1950,2000)\n",
        "compsci_degrees = np.random.randint(957, size=50)\n",
        "\n",
        "# TODO. Replace with code."
      ],
      "metadata": {
        "id": "uxZShCgUo1Eq"
      },
      "execution_count": null,
      "outputs": []
    },
    {
      "cell_type": "markdown",
      "source": [
        "##### **Possible Solution**"
      ],
      "metadata": {
        "id": "VdMkbRpYpT88"
      }
    },
    {
      "cell_type": "code",
      "source": [
        "plt.scatter(birth_year, compsci_degrees, color='purple')\n",
        "plt.title('Number of Computer Science Degrees at MIT Vs. Birth Year')\n",
        "plt.show()"
      ],
      "metadata": {
        "colab": {
          "base_uri": "https://localhost:8080/",
          "height": 281
        },
        "id": "q8FUwkLtpWA8",
        "outputId": "f61108ce-d4ad-4202-a31f-5a4cddce80f4"
      },
      "execution_count": null,
      "outputs": [
        {
          "output_type": "display_data",
          "data": {
            "text/plain": [
              "<Figure size 432x288 with 1 Axes>"
            ],
            "image/png": "[encoded data removed]"
          },
          "metadata": {
            "needs_background": "light"
          }
        }
      ]
    },
    {
      "cell_type": "markdown",
      "source": [
        "#### **Problem #4**\n",
        "\n",
        "You are given average temperature values for the months of the year for two cities `city_A` and `city_B`. Plot each cities' average temperatures (hint: you'll need to make two scatterplots). Make `city_A` markers blue squares and `city_B` markers red stars. Add labels and a legend.\n",
        "\n",
        "From the graph, which city is most likely located in the Northeast?"
      ],
      "metadata": {
        "id": "dUqOMFqIqMGq"
      }
    },
    {
      "cell_type": "code",
      "source": [
        "city_A_temps: [60,65,67, 70, 77, 84, 94, 101, 90, 82, 62]\n",
        "city_B_temps: [-11, 14, 25, 32, 55, 73, 87, 92, 82, 66, 53]\n",
        "months = np.arange(1,12)\n",
        "\n",
        "# TODO. Add in scatterplots"
      ],
      "metadata": {
        "id": "ZBZcgZ2trRtM"
      },
      "execution_count": null,
      "outputs": []
    },
    {
      "cell_type": "markdown",
      "source": [
        "##### **Potential Solution**"
      ],
      "metadata": {
        "id": "TIiI6cDBsUvx"
      }
    },
    {
      "cell_type": "code",
      "source": [
        "city_A_temps = [60,65,67, 70, 77, 84, 94, 101, 90, 82, 66]\n",
        "city_B_temps = [-6, 5, 25, 32, 55, 73, 83, 89, 72, 59, 43]\n",
        "months = np.arange(1,12)\n",
        "\n",
        "# TODO. Replace with code.\n",
        "plt.scatter(months, city_A_temps, label='city_A',color='blue', marker='*')\n",
        "plt.scatter(months, city_B_temps, label='city_B',color='red',marker='s')\n",
        "plt.legend(prop={'size': 8})\n",
        "plt.show()"
      ],
      "metadata": {
        "colab": {
          "base_uri": "https://localhost:8080/",
          "height": 265
        },
        "id": "BsLw4wdBsXPY",
        "outputId": "4e71c7b2-e4a9-4a8b-e288-ce32e1f0d13b"
      },
      "execution_count": null,
      "outputs": [
        {
          "output_type": "display_data",
          "data": {
            "text/plain": [
              "<Figure size 432x288 with 1 Axes>"
            ],
            "image/png": "[encoded data removed]"
          },
          "metadata": {
            "needs_background": "light"
          }
        }
      ]
    },
    {
      "cell_type": "markdown",
      "source": [
        "### **Section 1.2: Review of Line Graphs**\n",
        "---\n",
        "\n"
      ],
      "metadata": {
        "id": "PAztxUDfuD1Z"
      }
    },
    {
      "cell_type": "markdown",
      "source": [
        "#### **Problem #1**\n",
        "\n",
        "Create a line graph given the array `x_range` and `y_range`.\n",
        "\n",
        "You'll notice it creates a sinusodial line graph."
      ],
      "metadata": {
        "id": "NVmQNPBwuD1o"
      }
    },
    {
      "cell_type": "code",
      "source": [
        "x_range = np.arange(1,50,1)\n",
        "y_range = np.sin(x_range)\n",
        "\n",
        "# TODO. Add in line plot"
      ],
      "metadata": {
        "id": "2A2gwDo1uD1p"
      },
      "execution_count": null,
      "outputs": []
    },
    {
      "cell_type": "markdown",
      "source": [
        "##### **Possible Solution**"
      ],
      "metadata": {
        "id": "BiNqCCNUuD1p"
      }
    },
    {
      "cell_type": "code",
      "source": [
        "plt.plot(x_range, y_range)\n",
        "plt.show()"
      ],
      "metadata": {
        "colab": {
          "base_uri": "https://localhost:8080/",
          "height": 265
        },
        "outputId": "fd265c07-65a3-4fd3-b0c6-5cd80aed6f7c",
        "id": "ubtlSKgAuD1p"
      },
      "execution_count": null,
      "outputs": [
        {
          "output_type": "display_data",
          "data": {
            "text/plain": [
              "<Figure size 432x288 with 1 Axes>"
            ],
            "image/png": "[encoded data removed]"
          },
          "metadata": {
            "needs_background": "light"
          }
        }
      ]
    },
    {
      "cell_type": "markdown",
      "source": [
        "#### **Problem #2**\n",
        "\n",
        "Tyler is helping you create a graph for a school project vizualizing data on average visits to an amusement park in your town based on age. He has already started below. Complete his code."
      ],
      "metadata": {
        "id": "3BQs0ZSmuD1r"
      }
    },
    {
      "cell_type": "code",
      "source": [
        "# Tyler's work.\n",
        "y_array = np.array([0,0,1,5,8,10,12,15,16,20,21, 25, 28, 40, 42, 65, 78 ])\n",
        "x_array = np.arange(1,18,1)\n",
        "\n",
        "#create labels\n",
        "plt.xlabel(\"Ages (Year)\")\n",
        "plt.ylabel(\"Visits to Theme Park\")\n",
        "\n",
        "\n",
        "# TODO. Add in the rest"
      ],
      "metadata": {
        "id": "qS9252vjuD1r",
        "colab": {
          "base_uri": "https://localhost:8080/",
          "height": 301
        },
        "outputId": "b7623836-397d-42e6-bc85-6103ddb7113e"
      },
      "execution_count": null,
      "outputs": [
        {
          "output_type": "execute_result",
          "data": {
            "text/plain": [
              "Text(0, 0.5, 'Visits to Theme Park')"
            ]
          },
          "metadata": {},
          "execution_count": 23
        },
        {
          "output_type": "display_data",
          "data": {
            "text/plain": [
              "<Figure size 432x288 with 1 Axes>"
            ],
            "image/png": "[encoded data removed]"
          },
          "metadata": {
            "needs_background": "light"
          }
        }
      ]
    },
    {
      "cell_type": "markdown",
      "source": [
        "##### **Possible Solution**"
      ],
      "metadata": {
        "id": "4YDhLtSbuD1s"
      }
    },
    {
      "cell_type": "code",
      "source": [
        "y_axis_name = 'Visits to Theme Park'\n",
        "title = 'Visits to Theme Park Vs. Age (Years)'\n",
        "x_array = np.arange(1,18,1)\n",
        "x_axis_name = \"Ages (Year)\"\n",
        "y_axis_name = \"Visits to Theme Park\"\n",
        "plt.plot(x_array, y_array)\n",
        "plt.title(title)\n",
        "plt.xlabel(x_axis_name)\n",
        "plt.ylabel(y_axis_name)\n",
        "plt.show()"
      ],
      "metadata": {
        "colab": {
          "base_uri": "https://localhost:8080/",
          "height": 295
        },
        "outputId": "46d307aa-56ee-4835-89ef-c333badc91c1",
        "id": "iqjSL6G3uD1s"
      },
      "execution_count": null,
      "outputs": [
        {
          "output_type": "display_data",
          "data": {
            "text/plain": [
              "<Figure size 432x288 with 1 Axes>"
            ],
            "image/png": "[encoded data removed]"
          },
          "metadata": {
            "needs_background": "light"
          }
        }
      ]
    },
    {
      "cell_type": "markdown",
      "source": [
        "#### **Problem #3**\n",
        "\n",
        "Create a line graph for the following data. Include fitting labels and a title. Also, get creative with a color, a grid, markers, and a legend."
      ],
      "metadata": {
        "id": "loUDAI4t9Dyu"
      }
    },
    {
      "cell_type": "code",
      "source": [
        "Year = [1920,1930,1940,1950,1960,1970,1980,1990,2000,2010]\n",
        "Unemployment_Rate = [9.8,12,8,7.2,6.9,7,6.5,6.2,5.5,6.3]"
      ],
      "metadata": {
        "id": "BeEqCxWx9uY1"
      },
      "execution_count": null,
      "outputs": []
    },
    {
      "cell_type": "markdown",
      "source": [
        "##### **Possible Solution**"
      ],
      "metadata": {
        "id": "SEiTGVsX9wui"
      }
    },
    {
      "cell_type": "code",
      "source": [
        "Year = [1920,1930,1940,1950,1960,1970,1980,1990,2000,2010]\n",
        "Unemployment_Rate = [9.8,12,8,7.2,6.9,7,6.5,6.2,5.5,6.3]\n",
        "\n",
        "plt.plot(Year, Unemployment_Rate, color = \"purple\", marker = \".\", label = \"Unemp. Rate\")\n",
        "plt.xlabel(\"Year\")\n",
        "plt.ylabel(\"Unemployment Rate\")\n",
        "plt.title(\"Unemployment rate over the years\")\n",
        "plt.grid()\n",
        "plt.legend()\n",
        "plt.show()"
      ],
      "metadata": {
        "colab": {
          "base_uri": "https://localhost:8080/",
          "height": 295
        },
        "id": "dTrbwnq99xNg",
        "outputId": "1f02a270-ff5e-4133-e6d0-81907fe70e80"
      },
      "execution_count": null,
      "outputs": [
        {
          "output_type": "display_data",
          "data": {
            "text/plain": [
              "<Figure size 432x288 with 1 Axes>"
            ],
            "image/png": "[encoded data removed]"
          },
          "metadata": {
            "needs_background": "light"
          }
        }
      ]
    },
    {
      "cell_type": "markdown",
      "source": [
        "#### **Problem #4**\n",
        "\n",
        "Create a line graph for the following data. Include fitting labels and a title. Also, get creative with a color, a grid, markers, and a legend. If this was easy, make all labels bold. You can also look up `plt.plot()` documentation online to try new parameters!"
      ],
      "metadata": {
        "id": "H_o_W5Er9GGI"
      }
    },
    {
      "cell_type": "code",
      "source": [
        "# number of employees of A\n",
        "emp_count = [3, 20, 50, 200, 350, 400]\n",
        "year = [2014, 2015, 2016, 2017, 2018, 2019]"
      ],
      "metadata": {
        "id": "leuqvzTM-hNa"
      },
      "execution_count": null,
      "outputs": []
    },
    {
      "cell_type": "markdown",
      "source": [
        "##### **Potential Solution**"
      ],
      "metadata": {
        "id": "hEJWgrlv-pKA"
      }
    },
    {
      "cell_type": "code",
      "source": [
        "emp_count = [3, 20, 50, 200, 350, 400]\n",
        "year = [2014, 2015, 2016, 2017, 2018, 2019]\n",
        "\n",
        "plt.plot(year, emp_count, color = \"blue\", marker = \".\", label = \"Num. Employess\")\n",
        "plt.xlabel(\"Year\", fontweight = \"bold\")\n",
        "plt.ylabel(\"Number of employees\", fontweight = \"bold\")\n",
        "plt.title(\"Number of employees over the years\", fontweight = \"bold\")\n",
        "plt.grid()\n",
        "plt.legend()\n",
        "plt.show()"
      ],
      "metadata": {
        "colab": {
          "base_uri": "https://localhost:8080/",
          "height": 295
        },
        "id": "OPAAkO-M-re-",
        "outputId": "c46f19bb-28cb-4e79-fe73-3eedfa380b12"
      },
      "execution_count": null,
      "outputs": [
        {
          "output_type": "display_data",
          "data": {
            "text/plain": [
              "<Figure size 432x288 with 1 Axes>"
            ],
            "image/png": "[encoded data removed]"
          },
          "metadata": {
            "needs_background": "light"
          }
        }
      ]
    },
    {
      "cell_type": "markdown",
      "source": [
        "### **Section 1.3: Review of Bar Graphs**\n",
        "---"
      ],
      "metadata": {
        "id": "B68uaEVl4JAN"
      }
    },
    {
      "cell_type": "markdown",
      "source": [
        "#### **Problem #1**\n",
        "\n",
        "Given `x_range` and `y_range`, create a bar graph and add a title of \"y_range vs. x_range\"."
      ],
      "metadata": {
        "id": "TLu1P0eq4jCG"
      }
    },
    {
      "cell_type": "code",
      "source": [
        "x_range = np.arange(1,10,1)\n",
        "y_range = np.random.random(11)\n",
        "\n",
        "# TODO. Replace with code."
      ],
      "metadata": {
        "id": "5qEeJziv42w2"
      },
      "execution_count": null,
      "outputs": []
    },
    {
      "cell_type": "markdown",
      "source": [
        "##### **Potential Solution**"
      ],
      "metadata": {
        "id": "3uyLMZgU4s_o"
      }
    },
    {
      "cell_type": "code",
      "source": [
        "x_range = np.arange(1,11)\n",
        "y_range = np.random.random(10)\n",
        "\n",
        "plt.bar(x_range,y_range)\n",
        "plt.title('y_range vs. x_range')\n",
        "plt.show()"
      ],
      "metadata": {
        "colab": {
          "base_uri": "https://localhost:8080/",
          "height": 281
        },
        "id": "J-N96iK443M-",
        "outputId": "8f0f8120-65ec-469e-bfc2-f125c4d51441"
      },
      "execution_count": null,
      "outputs": [
        {
          "output_type": "display_data",
          "data": {
            "text/plain": [
              "<Figure size 432x288 with 1 Axes>"
            ],
            "image/png": "[encoded data removed]"
          },
          "metadata": {
            "needs_background": "light"
          }
        }
      ]
    },
    {
      "cell_type": "markdown",
      "source": [
        "#### **Problem #2**\n",
        "\n",
        "Complete the code given below to create a bar chart of students enrolled for various language courses offered at an institute. Change the color to orange and the width to `.8`"
      ],
      "metadata": {
        "id": "5Oy5ocTY4vG_"
      }
    },
    {
      "cell_type": "code",
      "source": [
        "langs = ['English', 'French', 'Spanish', 'Chinese', 'Arabic']\n",
        "students = [23,17,35,29,12]\n",
        "\n",
        "# TODO. Replace with code."
      ],
      "metadata": {
        "id": "6sVOJ84A43tT"
      },
      "execution_count": null,
      "outputs": []
    },
    {
      "cell_type": "markdown",
      "source": [
        "##### **Potential Solution**"
      ],
      "metadata": {
        "id": "D5EOGTgy4xx1"
      }
    },
    {
      "cell_type": "code",
      "source": [
        "langs = ['English', 'French', 'Spanish', 'Chinese', 'Arabic']\n",
        "students = [23,17,35,29,12]\n",
        "plt.bar(langs,students, color='orange', width = .8)\n",
        "plt.xlabel(\"Language\")\n",
        "plt.ylabel(\"Number of Students\")\n",
        "plt.show()"
      ],
      "metadata": {
        "colab": {
          "base_uri": "https://localhost:8080/",
          "height": 279
        },
        "id": "oqhoCNQ344Ff",
        "outputId": "797814d3-90ee-4bf0-cc1f-e2cd864daa47"
      },
      "execution_count": null,
      "outputs": [
        {
          "output_type": "display_data",
          "data": {
            "text/plain": [
              "<Figure size 432x288 with 1 Axes>"
            ],
            "image/png": "[encoded data removed]"
          },
          "metadata": {
            "needs_background": "light"
          }
        }
      ]
    },
    {
      "cell_type": "markdown",
      "source": [
        "#### **Problem #3**\n",
        "\n",
        "For problem #3, we focus on classroom data. The classroom has 5 different groups, and corresponding to each group, we have a mean member height. The task is to compare than heights of each group using a **teal colored** bar chart. Make sure you add in labels and a title."
      ],
      "metadata": {
        "id": "2dLZn5xT4w0p"
      }
    },
    {
      "cell_type": "code",
      "source": [
        "groups = ['G1', 'G2', 'G3', 'G4', 'G5']\n",
        "mean_heights = [69.7, 68.2, 71.0, 67.4, 66.5]\n",
        "\n",
        "# TODO. Replace with code."
      ],
      "metadata": {
        "id": "LogKCba-44sS"
      },
      "execution_count": null,
      "outputs": []
    },
    {
      "cell_type": "markdown",
      "source": [
        "##### **Potential Solution**"
      ],
      "metadata": {
        "id": "i_Ja7TE54yD8"
      }
    },
    {
      "cell_type": "code",
      "source": [
        "plt.bar(groups, mean_heights, color='teal')\n",
        "plt.xlabel('Groups')\n",
        "plt.ylabel('Mean Height (in.)')\n",
        "plt.title('Mean Height (in.) Vs. Groups')\n",
        "plt.show()"
      ],
      "metadata": {
        "colab": {
          "base_uri": "https://localhost:8080/",
          "height": 295
        },
        "id": "4WTcElfR45Ml",
        "outputId": "3193fd95-0513-431d-829b-b48dddcffa04"
      },
      "execution_count": null,
      "outputs": [
        {
          "output_type": "display_data",
          "data": {
            "text/plain": [
              "<Figure size 432x288 with 1 Axes>"
            ],
            "image/png": "[encoded data removed]"
          },
          "metadata": {
            "needs_background": "light"
          }
        }
      ]
    },
    {
      "cell_type": "markdown",
      "source": [
        "### **Section 1.4: Review of Grouped Bar Graphs**\n",
        "---"
      ],
      "metadata": {
        "id": "CYGKreZd_jIl"
      }
    },
    {
      "cell_type": "markdown",
      "source": [
        "#### **Problem #1**\n",
        "For problem 1, we focus on fishery data. The fishery has 2 different fish and corresponding to each fish, we have groups with mean weights. The task is to compare the mean weights of each species of fish using a bar chart.\n",
        "\n",
        "Make sure you:\n",
        "* Add in a legend\n",
        "* Add in labels"
      ],
      "metadata": {
        "id": "iE-7Vweo_yeG"
      }
    },
    {
      "cell_type": "code",
      "source": [
        "groups = ['G1', 'G2', 'G3', 'G4', 'G5']\n",
        "salmon_weights = [60.9, 70.8, 72.3, 62.8, 64.9]\n",
        "herring_weights = [25, 32, 34, 20, 25]\n",
        "\n",
        "# TODO. Replace with code."
      ],
      "metadata": {
        "id": "Eghrg_HmAf7O"
      },
      "execution_count": null,
      "outputs": []
    },
    {
      "cell_type": "markdown",
      "source": [
        "##### **Potential Solution**"
      ],
      "metadata": {
        "id": "OjqpFAwzAlL9"
      }
    },
    {
      "cell_type": "code",
      "source": [
        "x_axis = np.arange(len(groups))\n",
        "plt.bar(x_axis-0.2, salmon_weights, width=0.4, label='Salmon')\n",
        "plt.bar(x_axis+0.2, herring_weights, width=0.4, label='Red Herring')\n",
        "plt.xlabel('Group Number')\n",
        "plt.ylabel('Weights')\n",
        "plt.legend()\n",
        "plt.show()"
      ],
      "metadata": {
        "colab": {
          "base_uri": "https://localhost:8080/",
          "height": 279
        },
        "id": "htLDjMfzApgg",
        "outputId": "97ee1ec6-ce06-4af2-bff3-d6b691200c51"
      },
      "execution_count": null,
      "outputs": [
        {
          "output_type": "display_data",
          "data": {
            "text/plain": [
              "<Figure size 432x288 with 1 Axes>"
            ],
            "image/png": "[encoded data removed]"
          },
          "metadata": {
            "needs_background": "light"
          }
        }
      ]
    },
    {
      "cell_type": "markdown",
      "source": [
        "#### **Problem #2**\n",
        "Create a grouped bar graph with the following data. It should look as follows:"
      ],
      "metadata": {
        "id": "6ayQTxXoB5gk"
      }
    },
    {
      "cell_type": "markdown",
      "source": [
        "![Unknown.png](data:image/png;base64,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)"
      ],
      "metadata": {
        "id": "KZ9YlzqwClM-"
      }
    },
    {
      "cell_type": "markdown",
      "source": [
        "Try to include all the same styling points!"
      ],
      "metadata": {
        "id": "KySsi5jeCrYS"
      }
    },
    {
      "cell_type": "code",
      "source": [
        "# set width of bars\n",
        "barWidth = 0.25\n",
        "\n",
        "# set heights of bars\n",
        "bars1 = [12, 30, 1, 8, 22]\n",
        "bars2 = [28, 6, 16, 5, 10]\n",
        "bars3 = [29, 3, 24, 25, 17]"
      ],
      "metadata": {
        "id": "Bxo_Lg0fAIji"
      },
      "execution_count": null,
      "outputs": []
    },
    {
      "cell_type": "markdown",
      "source": [
        "##### **Potential Solution**"
      ],
      "metadata": {
        "id": "GAG_F9BpAJPx"
      }
    },
    {
      "cell_type": "code",
      "source": [
        "# set width of bars\n",
        "barWidth = 0.25\n",
        "\n",
        "# set heights of bars\n",
        "bars1 = [12, 30, 1, 8, 22]\n",
        "bars2 = [28, 6, 16, 5, 10]\n",
        "bars3 = [29, 3, 24, 25, 17]\n",
        "\n",
        "# Set position of bar on X axis\n",
        "r1 = np.arange(len(bars1))\n",
        "r2 = [x + barWidth for x in r1]\n",
        "r3 = [x + barWidth for x in r2]\n",
        "\n",
        "# Make the plot\n",
        "plt.bar(r1, bars1, color='red', width=barWidth, label='var1')\n",
        "plt.bar(r2, bars2, color='orange', width=barWidth, label='var2')\n",
        "plt.bar(r3, bars3, color='blue', width=barWidth, label='var3')\n",
        "\n",
        "# Create legend & Show graphic\n",
        "plt.legend()\n",
        "plt.show()"
      ],
      "metadata": {
        "colab": {
          "base_uri": "https://localhost:8080/",
          "height": 265
        },
        "id": "rp4JkLtKALDY",
        "outputId": "bfd471a2-6a42-4807-c3a2-969b6cd10054"
      },
      "execution_count": null,
      "outputs": [
        {
          "output_type": "display_data",
          "data": {
            "text/plain": [
              "<Figure size 432x288 with 1 Axes>"
            ],
            "image/png": "[encoded data removed]"
          },
          "metadata": {
            "needs_background": "light"
          }
        }
      ]
    },
    {
      "cell_type": "markdown",
      "source": [
        "## **Section 2: Improving Visualizations**\n",
        "---"
      ],
      "metadata": {
        "id": "i8QUCpgmE3Yc"
      }
    },
    {
      "cell_type": "markdown",
      "source": [
        "### **Section 2.1: Improving Scatterplots**\n",
        "---"
      ],
      "metadata": {
        "id": "ORePuyaVGdgM"
      }
    },
    {
      "cell_type": "markdown",
      "source": [
        "#### **Problem #1**\n",
        "Take your solution from problem 4 in section 1.1. You are going to add a third set of data, `city_C_temps`. Then, change the markers for each (make them all different shapes and colors). Make sure to include a legend.\n",
        "\n",
        "**HINT:** Check out this [link ](https://matplotlib.org/stable/api/_as_gen/matplotlib.markers.MarkerStyle.html#matplotlib.markers.MarkerStyle) for markers you can use."
      ],
      "metadata": {
        "id": "ANRoRHEyFZJa"
      }
    },
    {
      "cell_type": "code",
      "source": [
        "city_A_temps = [60,65,67, 70, 77, 84, 94, 101, 90, 82, 66]\n",
        "city_B_temps = [-6, 5, 25, 32, 55, 73, 83, 89, 72, 59, 43]\n",
        "city_C_temps = [-7, 3, 22, 30, 53, 70, 75, 80, 67, 55, 30]\n",
        "months = np.arange(1,12)\n",
        "\n",
        "# add your code here"
      ],
      "metadata": {
        "id": "Ks6zuvygJWVH"
      },
      "execution_count": null,
      "outputs": []
    },
    {
      "cell_type": "markdown",
      "source": [
        "##### **Potential Solution**"
      ],
      "metadata": {
        "id": "CltJr07KJBh5"
      }
    },
    {
      "cell_type": "code",
      "source": [
        "city_A_temps = [60,65,67, 70, 77, 84, 94, 101, 90, 82, 66]\n",
        "city_B_temps = [-6, 5, 25, 32, 55, 73, 83, 89, 72, 59, 43]\n",
        "city_C_temps = [-7, 3, 22, 30, 53, 70, 75, 80, 67, 55, 15]\n",
        "months = np.arange(1,12)\n",
        "\n",
        "plt.scatter(months, city_A_temps, label='city A',color='blue', marker='*')\n",
        "plt.scatter(months, city_B_temps, label='city B',color='red',marker='s')\n",
        "plt.scatter(months, city_C_temps, label='city C',color='green',marker='X')\n",
        "plt.legend()\n",
        "plt.show()"
      ],
      "metadata": {
        "id": "CnLLru46JD-X",
        "colab": {
          "base_uri": "https://localhost:8080/",
          "height": 265
        },
        "outputId": "239d1f9b-8c05-4add-cbf6-8d58ad5f135c"
      },
      "execution_count": null,
      "outputs": [
        {
          "output_type": "display_data",
          "data": {
            "text/plain": [
              "<Figure size 432x288 with 1 Axes>"
            ],
            "image/png": "[encoded data removed]"
          },
          "metadata": {
            "needs_background": "light"
          }
        }
      ]
    },
    {
      "cell_type": "markdown",
      "source": [
        "#### **Problem #2**"
      ],
      "metadata": {
        "id": "vkLeQNjmFdja"
      }
    },
    {
      "cell_type": "markdown",
      "source": [
        "In this exercise, we will create charts to interpret UCI ML Wine Data Set. This dataset is a result of a chemical analysis of wines grown in the same region in Italy but derived from three different cultivars."
      ],
      "metadata": {
        "id": "KRDNNSRZR4oo"
      }
    },
    {
      "cell_type": "markdown",
      "source": [
        "**Run the two cells below to create and read the dataframe.**"
      ],
      "metadata": {
        "id": "8tIOEFjhR9SA"
      }
    },
    {
      "cell_type": "code",
      "source": [
        "#data\n",
        "import pandas as pd\n",
        "url = 'http://archive.ics.uci.edu/ml/machine-learning-databases/wine/wine.data'\n",
        "wine_df = pd.read_csv(url, header = None)\n",
        "\n",
        "wine_df.columns = ['Label', 'Alcohol', 'Malic Acid', 'Ash', 'Alcalinity of ash ', 'Magnesium', 'Total phenols', 'Flavanoids' , 'Nonflavanoid phenols', 'Proanthocyanins', 'Color intensity', 'Hue', 'OD280/OD315 of diluted wines', 'Proline']\n",
        "\n",
        "#replace the categories from 1,2,3 to 0,1,2\n",
        "wine_df['Label'].replace([1, 2, 3],\n",
        "                        [0, 1, 2], inplace=True)"
      ],
      "metadata": {
        "id": "iW9TC2JdR2Qp"
      },
      "execution_count": null,
      "outputs": []
    },
    {
      "cell_type": "code",
      "source": [
        "wine_df"
      ],
      "metadata": {
        "id": "bVLjwk7XR7GG"
      },
      "execution_count": null,
      "outputs": []
    },
    {
      "cell_type": "markdown",
      "source": [
        "**A basic scatterplot has been created for you below** that shows the distribution of alcohol content across different types of wine. Change:\n",
        "* color\n",
        "* transparency\n",
        "* size of markers\n",
        "* type of markers"
      ],
      "metadata": {
        "id": "wz9zWpeCSMJV"
      }
    },
    {
      "cell_type": "code",
      "source": [
        "#distribution of Alcohol content\n",
        "# assign categories\n",
        "categories = wine_df['Label'].to_numpy()\n",
        "\n",
        "plt.scatter(wine_df.index, wine_df[\"Alcohol\"])\n",
        "plt.title(\"Distribution of Alcohol content\")\n",
        "plt.show()"
      ],
      "metadata": {
        "id": "JHPUbVsCSF5W",
        "colab": {
          "base_uri": "https://localhost:8080/",
          "height": 299
        },
        "outputId": "688ceee8-ae31-4cd3-8ef0-df6157c2e5cb"
      },
      "execution_count": null,
      "outputs": [
        {
          "output_type": "stream",
          "name": "stdout",
          "text": [
            "RangeIndex(start=0, stop=178, step=1)\n"
          ]
        },
        {
          "output_type": "display_data",
          "data": {
            "text/plain": [
              "<Figure size 432x288 with 1 Axes>"
            ],
            "image/png": "[encoded data removed]"
          },
          "metadata": {
            "needs_background": "light"
          }
        }
      ]
    },
    {
      "cell_type": "markdown",
      "source": [
        "##### **Potential Solution:**"
      ],
      "metadata": {
        "id": "KXBg0UFVSk7T"
      }
    },
    {
      "cell_type": "code",
      "source": [
        "#distribution of Alcohol content\n",
        "# assign categories\n",
        "categories = wine_df['Label'].to_numpy()\n",
        "\n",
        "plt.scatter(wine_df.index, wine_df[\"Alcohol\"], c = \"maroon\", alpha = 0.6, s = 100, marker = \"*\")\n",
        "plt.title(\"Distribution of Alcohol content\")\n",
        "plt.show()"
      ],
      "metadata": {
        "colab": {
          "base_uri": "https://localhost:8080/",
          "height": 303
        },
        "id": "jODsyTElTroI",
        "outputId": "59ce5da9-586d-4024-b10a-2ff3d0711426"
      },
      "execution_count": null,
      "outputs": [
        {
          "output_type": "display_data",
          "data": {
            "text/plain": [
              "<Figure size 432x288 with 1 Axes>"
            ],
            "image/png": "[encoded data removed]"
          },
          "metadata": {}
        }
      ]
    },
    {
      "cell_type": "markdown",
      "source": [
        "### **Section 2.2: Improving Line Graphs**\n",
        "---"
      ],
      "metadata": {
        "id": "jEgU1lefGhmr"
      }
    },
    {
      "cell_type": "markdown",
      "source": [
        "#### **Problem #1**\n",
        "\n",
        "Use your solution from #3 in Section 1.2 and make the line dashed."
      ],
      "metadata": {
        "id": "tCDKL5LXIDtm"
      }
    },
    {
      "cell_type": "code",
      "source": [],
      "metadata": {
        "id": "u04mZF2WYrb1"
      },
      "execution_count": null,
      "outputs": []
    },
    {
      "cell_type": "markdown",
      "source": [
        "#####**Potential Solution**"
      ],
      "metadata": {
        "id": "hiT9yN3nYr3b"
      }
    },
    {
      "cell_type": "code",
      "source": [
        "Year = [1920,1930,1940,1950,1960,1970,1980,1990,2000,2010]\n",
        "Unemployment_Rate = [9.8,12,8,7.2,6.9,7,6.5,6.2,5.5,6.3]\n",
        "\n",
        "plt.plot(Year, Unemployment_Rate, color = \"purple\", marker = \".\", label = \"Unemp. Rate\", ls = \"--\")\n",
        "plt.xlabel(\"Year\")\n",
        "plt.ylabel(\"Unemployment Rate\")\n",
        "plt.title(\"Unemployment rate over the years\")\n",
        "plt.grid()\n",
        "plt.legend()\n",
        "plt.show()"
      ],
      "metadata": {
        "colab": {
          "base_uri": "https://localhost:8080/",
          "height": 325
        },
        "id": "nmDA39JKYwFz",
        "outputId": "ec6e74d5-57a2-45fb-9c4a-88a955c3eceb"
      },
      "execution_count": null,
      "outputs": [
        {
          "output_type": "display_data",
          "data": {
            "text/plain": [
              "<Figure size 432x288 with 1 Axes>"
            ],
            "image/png": "[encoded data removed]"
          },
          "metadata": {}
        }
      ]
    },
    {
      "cell_type": "markdown",
      "source": [
        "#### **Problem #2**\n",
        "Using the following data, create a line graph. Then, make that line dashed and dotted with `\"-.\"`."
      ],
      "metadata": {
        "id": "Jf5F6kZOZFoI"
      }
    },
    {
      "cell_type": "code",
      "source": [
        "# x axis values\n",
        "x = [1,2,3]\n",
        "# corresponding y axis values\n",
        "y = [2,4,1]"
      ],
      "metadata": {
        "id": "jWVJ7xzZZfk1"
      },
      "execution_count": null,
      "outputs": []
    },
    {
      "cell_type": "markdown",
      "source": [
        "#####**Potential Solution**"
      ],
      "metadata": {
        "id": "_orzK4o6ZfuM"
      }
    },
    {
      "cell_type": "code",
      "source": [
        "# x axis values\n",
        "x = [1,2,3]\n",
        "# corresponding y axis values\n",
        "y = [2,4,1]\n",
        "\n",
        "# plotting the points\n",
        "plt.plot(x, y, ls = '-.')\n",
        "\n",
        "# naming the x axis\n",
        "plt.xlabel('x - axis')\n",
        "# naming the y axis\n",
        "plt.ylabel('y - axis')\n",
        "\n",
        "# giving a title to my graph\n",
        "plt.title('Cool Line Graph')\n",
        "\n",
        "# function to show the plot\n",
        "plt.show()"
      ],
      "metadata": {
        "colab": {
          "base_uri": "https://localhost:8080/",
          "height": 325
        },
        "id": "TDVHmQmlZh3_",
        "outputId": "043035a8-eb21-4162-a0af-a610467d5175"
      },
      "execution_count": null,
      "outputs": [
        {
          "output_type": "display_data",
          "data": {
            "text/plain": [
              "<Figure size 432x288 with 1 Axes>"
            ],
            "image/png": "[encoded data removed]"
          },
          "metadata": {}
        }
      ]
    },
    {
      "cell_type": "markdown",
      "source": [
        "### **Section 2.3: Improving Bar Graphs**"
      ],
      "metadata": {
        "id": "P7MUd5luGlGH"
      }
    },
    {
      "cell_type": "markdown",
      "source": [
        "**Problem #1**\n",
        "\n",
        "Use your solution from section 1.3 problem #2 and make each bar a different color."
      ],
      "metadata": {
        "id": "MsZMPksXamGz"
      }
    },
    {
      "cell_type": "code",
      "source": [
        "langs = ['English', 'French', 'Spanish', 'Chinese', 'Arabic']\n",
        "students = [23,17,35,29,12]\n",
        "plt.bar(langs,students, color=[\"red\", \"orange\", \"blue\", \"purple\", \"black\"], width = .8)\n",
        "plt.xlabel(\"Language\")\n",
        "plt.ylabel(\"Number of Students\")\n",
        "plt.show()"
      ],
      "metadata": {
        "colab": {
          "base_uri": "https://localhost:8080/",
          "height": 279
        },
        "id": "EmKrpoIBamf0",
        "outputId": "17f62e80-d1e1-439f-db1a-f1a236b2bcec"
      },
      "execution_count": null,
      "outputs": [
        {
          "output_type": "display_data",
          "data": {
            "text/plain": [
              "<Figure size 432x288 with 1 Axes>"
            ],
            "image/png": "[encoded data removed]"
          },
          "metadata": {
            "needs_background": "light"
          }
        }
      ]
    },
    {
      "cell_type": "markdown",
      "source": [
        "**Problem #2**\n",
        "\n",
        "Use the following data to create a simple bar graph, then make sure each bar is a different color."
      ],
      "metadata": {
        "id": "UBfUrUZBa0jQ"
      }
    },
    {
      "cell_type": "code",
      "source": [
        "height = [3, 12, 5, 18, 45]       # y\n",
        "bars = ['A', 'B', 'C', 'D', 'E']  # x"
      ],
      "metadata": {
        "id": "0WAX4X4wbGnS"
      },
      "execution_count": null,
      "outputs": []
    },
    {
      "cell_type": "markdown",
      "source": [
        "#####**Potential Solutions**"
      ],
      "metadata": {
        "id": "oLNMFKJybGw6"
      }
    },
    {
      "cell_type": "code",
      "source": [
        "# Libraries\n",
        "import matplotlib.pyplot as plt\n",
        "\n",
        "# Create dataset\n",
        "height = [3, 12, 5, 18, 45]\n",
        "bars = ['A', 'B', 'C', 'D', 'E']\n",
        "\n",
        "# Create bars\n",
        "plt.bar(bars, height, color = [\"orange\", \"green\", \"purple\", \"yellow\", \"red\"])\n",
        "\n",
        "# Show graphic\n",
        "plt.show()"
      ],
      "metadata": {
        "colab": {
          "base_uri": "https://localhost:8080/",
          "height": 265
        },
        "id": "4TOocQLDbJuN",
        "outputId": "dcf4ebb6-3c40-4a9f-fdf2-1f34814e0361"
      },
      "execution_count": null,
      "outputs": [
        {
          "output_type": "display_data",
          "data": {
            "text/plain": [
              "<Figure size 432x288 with 1 Axes>"
            ],
            "image/png": "[encoded data removed]"
          },
          "metadata": {
            "needs_background": "light"
          }
        }
      ]
    },
    {
      "cell_type": "markdown",
      "source": [
        "### **Section 2.4: Changing the Size of Graphs**"
      ],
      "metadata": {
        "id": "v52xBX4hPYcF"
      }
    },
    {
      "cell_type": "markdown",
      "source": [
        "For problems 1-3, we'll be using the following DF. We'll be using the U.S. 2011 agricultural export dataset."
      ],
      "metadata": {
        "id": "oas9NHuKPb-3"
      }
    },
    {
      "cell_type": "code",
      "source": [
        "#import dataset\n",
        "url = 'https://raw.githubusercontent.com/plotly/datasets/master/2011_us_ag_exports.csv'\n",
        "export_df = pd.read_csv(url)\n",
        "export_df\n"
      ],
      "metadata": {
        "id": "7ltA47zfPiTN",
        "colab": {
          "base_uri": "https://localhost:8080/",
          "height": 1000
        },
        "outputId": "8384854d-9f38-444b-a97b-3548cf9164dc"
      },
      "execution_count": null,
      "outputs": [
        {
          "output_type": "execute_result",
          "data": {
            "text/plain": [
              "   code           state category  total exports   beef    pork  poultry  \\\n",
              "0    AL         Alabama    state        1390.63   34.4    10.6    481.0   \n",
              "1    AK          Alaska    state          13.31    0.2     0.1      0.0   \n",
              "2    AZ         Arizona    state        1463.17   71.3    17.9      0.0   \n",
              "3    AR        Arkansas    state        3586.02   53.2    29.4    562.9   \n",
              "4    CA      California    state       16472.88  228.7    11.1    225.4   \n",
              "5    CO        Colorado    state        1851.33  261.4    66.0     14.0   \n",
              "6    CT     Connecticut    state         259.62    1.1     0.1      6.9   \n",
              "7    DE        Delaware    state         282.19    0.4     0.6    114.7   \n",
              "8    FL         Florida    state        3764.09   42.6     0.9     56.9   \n",
              "9    GA         Georgia    state        2860.84   31.0    18.9    630.4   \n",
              "10   HI          Hawaii    state         401.84    4.0     0.7      1.3   \n",
              "11   ID           Idaho    state        2078.89  119.8     0.0      2.4   \n",
              "12   IL        Illinois    state        8709.48   53.7   394.0     14.0   \n",
              "13   IN         Indiana    state        5050.23   21.9   341.9    165.6   \n",
              "14   IA            Iowa    state       11273.76  289.8  1895.6    155.6   \n",
              "15   KS          Kansas    state        4589.01  659.3   179.4      6.4   \n",
              "16   KY        Kentucky    state        1889.15   54.8    34.2    151.3   \n",
              "17   LA       Louisiana    state        1914.23   19.8     0.8     77.2   \n",
              "18   ME           Maine    state         278.37    1.4     0.5     10.4   \n",
              "19   MD        Maryland    state         692.75    5.6     3.1    127.0   \n",
              "20   MA   Massachusetts    state         248.65    0.6     0.5      0.6   \n",
              "21   MI        Michigan    state        3164.16   37.7   118.1     32.6   \n",
              "22   MN       Minnesota    state        7192.33  112.3   740.4    189.2   \n",
              "23   MS     Mississippi    state        2170.80   12.8    30.4    370.8   \n",
              "24   MO        Missouri    state        3933.42  137.2   277.3    196.1   \n",
              "25   MT         Montana    state        1718.00  105.0    16.7      1.7   \n",
              "26   NE        Nebraska    state        7114.13  762.2   262.5     31.4   \n",
              "27   NV          Nevada    state         139.89   21.8     0.2      0.0   \n",
              "28   NH   New Hampshire    state          73.06    0.6     0.2      0.8   \n",
              "29   NJ      New Jersey    state         500.40    0.8     0.4      4.6   \n",
              "30   NM      New Mexico    state         751.58  117.2     0.1      0.3   \n",
              "31   NY        New York    state        1488.90   22.2     5.8     17.7   \n",
              "32   NC  North Carolina    state        3806.05   24.8   702.8    598.4   \n",
              "33   ND    North Dakota    state        3761.96   78.5    16.1      0.5   \n",
              "34   OH            Ohio    state        3979.79   36.2   199.1    129.9   \n",
              "35   OK        Oklahoma    state        1646.41  337.6   265.3    131.1   \n",
              "36   OR          Oregon    state        1794.57   58.8     1.4     14.2   \n",
              "37   PA    Pennsylvania    state        1969.87   50.9    91.3    169.8   \n",
              "38   RI    Rhode Island    state          31.59    0.1     0.1      0.2   \n",
              "39   SC  South Carolina    state         929.93   15.2    10.9    186.5   \n",
              "40   SD    South Dakota    state        3770.19  193.5   160.2     29.3   \n",
              "41   TN       Tennessee    state        1535.13   51.1    17.6     82.4   \n",
              "42   TX           Texas    state        6648.22  961.0    42.7    339.2   \n",
              "43   UT            Utah    state         453.39   27.9    59.0     23.1   \n",
              "44   VT         Vermont    state         180.14    6.2     0.2      0.9   \n",
              "45   VA        Virginia    state        1146.48   39.5    16.9    164.7   \n",
              "46   WA      Washington    state        3894.81   59.2     0.0     35.6   \n",
              "47   WV   West Virginia    state         138.89   12.0     0.3     45.4   \n",
              "48   WI       Wisconsin    state        3090.23  107.3    38.6     34.5   \n",
              "49   WY         Wyoming    state         349.69   75.1    33.2      0.1   \n",
              "\n",
              "     dairy  fruits fresh  fruits proc  total fruits  veggies fresh  \\\n",
              "0     4.06           8.0         17.1         25.11            5.5   \n",
              "1     0.19           0.0          0.0          0.00            0.6   \n",
              "2   105.48          19.3         41.0         60.27          147.5   \n",
              "3     3.53           2.2          4.7          6.88            4.4   \n",
              "4   929.95        2791.8       5944.6       8736.40          803.2   \n",
              "5    71.94           5.7         12.2         17.99           45.1   \n",
              "6     9.49           4.2          8.9         13.10            4.3   \n",
              "7     2.30           0.5          1.0          1.53            7.6   \n",
              "8    66.31         438.2        933.1       1371.36          171.9   \n",
              "9    38.38          74.6        158.9        233.51           59.0   \n",
              "10    1.16          17.7         37.8         55.51            9.5   \n",
              "11  294.60           6.9         14.7         21.64          121.7   \n",
              "12   45.82           4.0          8.5         12.53           15.2   \n",
              "13   89.70           4.1          8.8         12.98           14.4   \n",
              "14  107.00           1.0          2.2          3.24            2.7   \n",
              "15   65.45           1.0          2.1          3.11            3.6   \n",
              "16   28.27           2.1          4.5          6.60            0.0   \n",
              "17    6.02           5.7         12.1         17.83            6.6   \n",
              "18   16.18          16.6         35.4         52.01           24.0   \n",
              "19   24.81           4.1          8.8         12.90            7.8   \n",
              "20    5.81          25.8         55.0         80.83            8.1   \n",
              "21  214.82          82.3        175.3        257.69           72.4   \n",
              "22  218.05           2.5          5.4          7.91           45.9   \n",
              "23    5.45           5.4         11.6         17.04           10.6   \n",
              "24   34.26           4.2          9.0         13.18            6.8   \n",
              "25    6.82           1.1          2.2          3.30           17.3   \n",
              "26   30.07           0.7          1.5          2.16           20.4   \n",
              "27   16.57           0.4          0.8          1.19           10.6   \n",
              "28    7.46           2.6          5.4          7.98            1.7   \n",
              "29    3.37          35.0         74.5        109.45           21.6   \n",
              "30  191.01          32.6         69.3        101.90           16.7   \n",
              "31  331.80          64.7        137.8        202.56           54.7   \n",
              "32   24.90          23.8         50.7         74.47           57.4   \n",
              "33    8.14           0.1          0.2          0.25           49.9   \n",
              "34  134.57           8.7         18.5         27.21           20.4   \n",
              "35   24.35           3.0          6.3          9.24            3.4   \n",
              "36   63.66         100.7        214.4        315.04           48.2   \n",
              "37  280.87          28.6         60.9         89.48           14.6   \n",
              "38    0.52           0.9          1.9          2.83            1.2   \n",
              "39    7.62          17.1         36.4         53.45           16.3   \n",
              "40   46.77           0.3          0.5          0.80            1.5   \n",
              "41   21.18           2.0          4.2          6.23            9.4   \n",
              "42  240.55          31.9         68.0         99.90           43.9   \n",
              "43   48.60           3.9          8.4         12.34            2.5   \n",
              "44   65.98           2.6          5.4          8.01            1.5   \n",
              "45   47.85          11.7         24.8         36.48           10.4   \n",
              "46  154.18         555.6       1183.0       1738.57          138.7   \n",
              "47    3.90           3.7          7.9         11.54            0.0   \n",
              "48  633.60          42.8         91.0        133.80           56.8   \n",
              "49    2.89           0.1          0.1          0.17            3.9   \n",
              "\n",
              "    veggies proc  total veggies    corn   wheat   cotton  \n",
              "0            8.9          14.33    34.9    70.0   317.61  \n",
              "1            1.0           1.56     0.0     0.0     0.00  \n",
              "2          239.4         386.91     7.3    48.7   423.95  \n",
              "3            7.1          11.45    69.5   114.5   665.44  \n",
              "4         1303.5        2106.79    34.6   249.3  1064.95  \n",
              "5           73.2         118.27   183.2   400.5     0.00  \n",
              "6            6.9          11.16     0.0     0.0     0.00  \n",
              "7           12.4          20.03    26.9    22.9     0.00  \n",
              "8          279.0         450.86     3.5     1.8    78.24  \n",
              "9           95.8         154.77    57.8    65.4  1154.07  \n",
              "10          15.4          24.83     0.0     0.0     0.00  \n",
              "11         197.5         319.19    24.0   568.2     0.00  \n",
              "12          24.7          39.95  2228.5   223.8     0.00  \n",
              "13          23.4          37.89  1123.2   114.0     0.00  \n",
              "14           4.4           7.10  2529.8     3.1     0.00  \n",
              "15           5.8           9.32   457.3  1426.5    43.98  \n",
              "16           0.0           0.00   179.1   149.3     0.00  \n",
              "17          10.7          17.25    91.4    78.7   280.42  \n",
              "18          38.9          62.90     0.0     0.0     0.00  \n",
              "19          12.6          20.43    54.1    55.8     0.00  \n",
              "20          13.1          21.13     0.0     0.0     0.00  \n",
              "21         117.5         189.96   381.5   247.0     0.00  \n",
              "22          74.5         120.37  1264.3   538.1     0.00  \n",
              "23          17.2          27.87   110.0   102.2   494.75  \n",
              "24          11.1          17.90   428.8   161.7   345.29  \n",
              "25          28.0          45.27     5.4  1198.1     0.00  \n",
              "26          33.1          53.50  1735.9   292.3     0.00  \n",
              "27          17.3          27.93     0.0     5.4     0.00  \n",
              "28           2.8           4.50     0.0     0.0     0.00  \n",
              "29          35.0          56.54    10.1     6.7     0.00  \n",
              "30          27.1          43.88    11.2    13.9    72.62  \n",
              "31          88.7         143.37   106.1    29.9     0.00  \n",
              "32          93.1         150.45    92.2   200.3   470.86  \n",
              "33          80.9         130.79   236.1  1664.5     0.00  \n",
              "34          33.1          53.53   535.1   207.4     0.00  \n",
              "35           5.5           8.90    27.5   324.8   110.54  \n",
              "36          78.3         126.50    11.7   320.3     0.00  \n",
              "37          23.7          38.26   112.1    41.0     0.00  \n",
              "38           1.9           3.02     0.0     0.0     0.00  \n",
              "39          26.4          42.66    32.1    55.3   206.10  \n",
              "40           2.5           4.06   643.6   704.5     0.00  \n",
              "41          15.3          24.67    88.8   100.0   363.83  \n",
              "42          71.3         115.23   167.2   309.7  2308.76  \n",
              "43           4.1           6.60     5.3    42.8     0.00  \n",
              "44           2.5           4.05     0.0     0.0     0.00  \n",
              "45          16.9          27.25    39.5    77.5    64.84  \n",
              "46         225.1         363.79    29.5   786.3     0.00  \n",
              "47           0.0           0.00     3.5     1.6     0.00  \n",
              "48          92.2         148.99   460.5    96.7     0.00  \n",
              "49           6.3          10.23     9.0    20.7     0.00  "
            ],
            "text/html": [
              "\n",
              "  <div id=\"df-035181fb-9189-4475-a352-f77f27401858\">\n",
              "    <div class=\"colab-df-container\">\n",
              "      <div>\n",
              "<style scoped>\n",
              "    .dataframe tbody tr th:only-of-type {\n",
              "        vertical-align: middle;\n",
              "    }\n",
              "\n",
              "    .dataframe tbody tr th {\n",
              "        vertical-align: top;\n",
              "    }\n",
              "\n",
              "    .dataframe thead th {\n",
              "        text-align: right;\n",
              "    }\n",
              "</style>\n",
              "<table border=\"1\" class=\"dataframe\">\n",
              "  <thead>\n",
              "    <tr style=\"text-align: right;\">\n",
              "      <th></th>\n",
              "      <th>code</th>\n",
              "      <th>state</th>\n",
              "      <th>category</th>\n",
              "      <th>total exports</th>\n",
              "      <th>beef</th>\n",
              "      <th>pork</th>\n",
              "      <th>poultry</th>\n",
              "      <th>dairy</th>\n",
              "      <th>fruits fresh</th>\n",
              "      <th>fruits proc</th>\n",
              "      <th>total fruits</th>\n",
              "      <th>veggies fresh</th>\n",
              "      <th>veggies proc</th>\n",
              "      <th>total veggies</th>\n",
              "      <th>corn</th>\n",
              "      <th>wheat</th>\n",
              "      <th>cotton</th>\n",
              "    </tr>\n",
              "  </thead>\n",
              "  <tbody>\n",
              "    <tr>\n",
              "      <th>0</th>\n",
              "      <td>AL</td>\n",
              "      <td>Alabama</td>\n",
              "      <td>state</td>\n",
              "      <td>1390.63</td>\n",
              "      <td>34.4</td>\n",
              "      <td>10.6</td>\n",
              "      <td>481.0</td>\n",
              "      <td>4.06</td>\n",
              "      <td>8.0</td>\n",
              "      <td>17.1</td>\n",
              "      <td>25.11</td>\n",
              "      <td>5.5</td>\n",
              "      <td>8.9</td>\n",
              "      <td>14.33</td>\n",
              "      <td>34.9</td>\n",
              "      <td>70.0</td>\n",
              "      <td>317.61</td>\n",
              "    </tr>\n",
              "    <tr>\n",
              "      <th>1</th>\n",
              "      <td>AK</td>\n",
              "      <td>Alaska</td>\n",
              "      <td>state</td>\n",
              "      <td>13.31</td>\n",
              "      <td>0.2</td>\n",
              "      <td>0.1</td>\n",
              "      <td>0.0</td>\n",
              "      <td>0.19</td>\n",
              "      <td>0.0</td>\n",
              "      <td>0.0</td>\n",
              "      <td>0.00</td>\n",
              "      <td>0.6</td>\n",
              "      <td>1.0</td>\n",
              "      <td>1.56</td>\n",
              "      <td>0.0</td>\n",
              "      <td>0.0</td>\n",
              "      <td>0.00</td>\n",
              "    </tr>\n",
              "    <tr>\n",
              "      <th>2</th>\n",
              "      <td>AZ</td>\n",
              "      <td>Arizona</td>\n",
              "      <td>state</td>\n",
              "      <td>1463.17</td>\n",
              "      <td>71.3</td>\n",
              "      <td>17.9</td>\n",
              "      <td>0.0</td>\n",
              "      <td>105.48</td>\n",
              "      <td>19.3</td>\n",
              "      <td>41.0</td>\n",
              "      <td>60.27</td>\n",
              "      <td>147.5</td>\n",
              "      <td>239.4</td>\n",
              "      <td>386.91</td>\n",
              "      <td>7.3</td>\n",
              "      <td>48.7</td>\n",
              "      <td>423.95</td>\n",
              "    </tr>\n",
              "    <tr>\n",
              "      <th>3</th>\n",
              "      <td>AR</td>\n",
              "      <td>Arkansas</td>\n",
              "      <td>state</td>\n",
              "      <td>3586.02</td>\n",
              "      <td>53.2</td>\n",
              "      <td>29.4</td>\n",
              "      <td>562.9</td>\n",
              "      <td>3.53</td>\n",
              "      <td>2.2</td>\n",
              "      <td>4.7</td>\n",
              "      <td>6.88</td>\n",
              "      <td>4.4</td>\n",
              "      <td>7.1</td>\n",
              "      <td>11.45</td>\n",
              "      <td>69.5</td>\n",
              "      <td>114.5</td>\n",
              "      <td>665.44</td>\n",
              "    </tr>\n",
              "    <tr>\n",
              "      <th>4</th>\n",
              "      <td>CA</td>\n",
              "      <td>California</td>\n",
              "      <td>state</td>\n",
              "      <td>16472.88</td>\n",
              "      <td>228.7</td>\n",
              "      <td>11.1</td>\n",
              "      <td>225.4</td>\n",
              "      <td>929.95</td>\n",
              "      <td>2791.8</td>\n",
              "      <td>5944.6</td>\n",
              "      <td>8736.40</td>\n",
              "      <td>803.2</td>\n",
              "      <td>1303.5</td>\n",
              "      <td>2106.79</td>\n",
              "      <td>34.6</td>\n",
              "      <td>249.3</td>\n",
              "      <td>1064.95</td>\n",
              "    </tr>\n",
              "    <tr>\n",
              "      <th>5</th>\n",
              "      <td>CO</td>\n",
              "      <td>Colorado</td>\n",
              "      <td>state</td>\n",
              "      <td>1851.33</td>\n",
              "      <td>261.4</td>\n",
              "      <td>66.0</td>\n",
              "      <td>14.0</td>\n",
              "      <td>71.94</td>\n",
              "      <td>5.7</td>\n",
              "      <td>12.2</td>\n",
              "      <td>17.99</td>\n",
              "      <td>45.1</td>\n",
              "      <td>73.2</td>\n",
              "      <td>118.27</td>\n",
              "      <td>183.2</td>\n",
              "      <td>400.5</td>\n",
              "      <td>0.00</td>\n",
              "    </tr>\n",
              "    <tr>\n",
              "      <th>6</th>\n",
              "      <td>CT</td>\n",
              "      <td>Connecticut</td>\n",
              "      <td>state</td>\n",
              "      <td>259.62</td>\n",
              "      <td>1.1</td>\n",
              "      <td>0.1</td>\n",
              "      <td>6.9</td>\n",
              "      <td>9.49</td>\n",
              "      <td>4.2</td>\n",
              "      <td>8.9</td>\n",
              "      <td>13.10</td>\n",
              "      <td>4.3</td>\n",
              "      <td>6.9</td>\n",
              "      <td>11.16</td>\n",
              "      <td>0.0</td>\n",
              "      <td>0.0</td>\n",
              "      <td>0.00</td>\n",
              "    </tr>\n",
              "    <tr>\n",
              "      <th>7</th>\n",
              "      <td>DE</td>\n",
              "      <td>Delaware</td>\n",
              "      <td>state</td>\n",
              "      <td>282.19</td>\n",
              "      <td>0.4</td>\n",
              "      <td>0.6</td>\n",
              "      <td>114.7</td>\n",
              "      <td>2.30</td>\n",
              "      <td>0.5</td>\n",
              "      <td>1.0</td>\n",
              "      <td>1.53</td>\n",
              "      <td>7.6</td>\n",
              "      <td>12.4</td>\n",
              "      <td>20.03</td>\n",
              "      <td>26.9</td>\n",
              "      <td>22.9</td>\n",
              "      <td>0.00</td>\n",
              "    </tr>\n",
              "    <tr>\n",
              "      <th>8</th>\n",
              "      <td>FL</td>\n",
              "      <td>Florida</td>\n",
              "      <td>state</td>\n",
              "      <td>3764.09</td>\n",
              "      <td>42.6</td>\n",
              "      <td>0.9</td>\n",
              "      <td>56.9</td>\n",
              "      <td>66.31</td>\n",
              "      <td>438.2</td>\n",
              "      <td>933.1</td>\n",
              "      <td>1371.36</td>\n",
              "      <td>171.9</td>\n",
              "      <td>279.0</td>\n",
              "      <td>450.86</td>\n",
              "      <td>3.5</td>\n",
              "      <td>1.8</td>\n",
              "      <td>78.24</td>\n",
              "    </tr>\n",
              "    <tr>\n",
              "      <th>9</th>\n",
              "      <td>GA</td>\n",
              "      <td>Georgia</td>\n",
              "      <td>state</td>\n",
              "      <td>2860.84</td>\n",
              "      <td>31.0</td>\n",
              "      <td>18.9</td>\n",
              "      <td>630.4</td>\n",
              "      <td>38.38</td>\n",
              "      <td>74.6</td>\n",
              "      <td>158.9</td>\n",
              "      <td>233.51</td>\n",
              "      <td>59.0</td>\n",
              "      <td>95.8</td>\n",
              "      <td>154.77</td>\n",
              "      <td>57.8</td>\n",
              "      <td>65.4</td>\n",
              "      <td>1154.07</td>\n",
              "    </tr>\n",
              "    <tr>\n",
              "      <th>10</th>\n",
              "      <td>HI</td>\n",
              "      <td>Hawaii</td>\n",
              "      <td>state</td>\n",
              "      <td>401.84</td>\n",
              "      <td>4.0</td>\n",
              "      <td>0.7</td>\n",
              "      <td>1.3</td>\n",
              "      <td>1.16</td>\n",
              "      <td>17.7</td>\n",
              "      <td>37.8</td>\n",
              "      <td>55.51</td>\n",
              "      <td>9.5</td>\n",
              "      <td>15.4</td>\n",
              "      <td>24.83</td>\n",
              "      <td>0.0</td>\n",
              "      <td>0.0</td>\n",
              "      <td>0.00</td>\n",
              "    </tr>\n",
              "    <tr>\n",
              "      <th>11</th>\n",
              "      <td>ID</td>\n",
              "      <td>Idaho</td>\n",
              "      <td>state</td>\n",
              "      <td>2078.89</td>\n",
              "      <td>119.8</td>\n",
              "      <td>0.0</td>\n",
              "      <td>2.4</td>\n",
              "      <td>294.60</td>\n",
              "      <td>6.9</td>\n",
              "      <td>14.7</td>\n",
              "      <td>21.64</td>\n",
              "      <td>121.7</td>\n",
              "      <td>197.5</td>\n",
              "      <td>319.19</td>\n",
              "      <td>24.0</td>\n",
              "      <td>568.2</td>\n",
              "      <td>0.00</td>\n",
              "    </tr>\n",
              "    <tr>\n",
              "      <th>12</th>\n",
              "      <td>IL</td>\n",
              "      <td>Illinois</td>\n",
              "      <td>state</td>\n",
              "      <td>8709.48</td>\n",
              "      <td>53.7</td>\n",
              "      <td>394.0</td>\n",
              "      <td>14.0</td>\n",
              "      <td>45.82</td>\n",
              "      <td>4.0</td>\n",
              "      <td>8.5</td>\n",
              "      <td>12.53</td>\n",
              "      <td>15.2</td>\n",
              "      <td>24.7</td>\n",
              "      <td>39.95</td>\n",
              "      <td>2228.5</td>\n",
              "      <td>223.8</td>\n",
              "      <td>0.00</td>\n",
              "    </tr>\n",
              "    <tr>\n",
              "      <th>13</th>\n",
              "      <td>IN</td>\n",
              "      <td>Indiana</td>\n",
              "      <td>state</td>\n",
              "      <td>5050.23</td>\n",
              "      <td>21.9</td>\n",
              "      <td>341.9</td>\n",
              "      <td>165.6</td>\n",
              "      <td>89.70</td>\n",
              "      <td>4.1</td>\n",
              "      <td>8.8</td>\n",
              "      <td>12.98</td>\n",
              "      <td>14.4</td>\n",
              "      <td>23.4</td>\n",
              "      <td>37.89</td>\n",
              "      <td>1123.2</td>\n",
              "      <td>114.0</td>\n",
              "      <td>0.00</td>\n",
              "    </tr>\n",
              "    <tr>\n",
              "      <th>14</th>\n",
              "      <td>IA</td>\n",
              "      <td>Iowa</td>\n",
              "      <td>state</td>\n",
              "      <td>11273.76</td>\n",
              "      <td>289.8</td>\n",
              "      <td>1895.6</td>\n",
              "      <td>155.6</td>\n",
              "      <td>107.00</td>\n",
              "      <td>1.0</td>\n",
              "      <td>2.2</td>\n",
              "      <td>3.24</td>\n",
              "      <td>2.7</td>\n",
              "      <td>4.4</td>\n",
              "      <td>7.10</td>\n",
              "      <td>2529.8</td>\n",
              "      <td>3.1</td>\n",
              "      <td>0.00</td>\n",
              "    </tr>\n",
              "    <tr>\n",
              "      <th>15</th>\n",
              "      <td>KS</td>\n",
              "      <td>Kansas</td>\n",
              "      <td>state</td>\n",
              "      <td>4589.01</td>\n",
              "      <td>659.3</td>\n",
              "      <td>179.4</td>\n",
              "      <td>6.4</td>\n",
              "      <td>65.45</td>\n",
              "      <td>1.0</td>\n",
              "      <td>2.1</td>\n",
              "      <td>3.11</td>\n",
              "      <td>3.6</td>\n",
              "      <td>5.8</td>\n",
              "      <td>9.32</td>\n",
              "      <td>457.3</td>\n",
              "      <td>1426.5</td>\n",
              "      <td>43.98</td>\n",
              "    </tr>\n",
              "    <tr>\n",
              "      <th>16</th>\n",
              "      <td>KY</td>\n",
              "      <td>Kentucky</td>\n",
              "      <td>state</td>\n",
              "      <td>1889.15</td>\n",
              "      <td>54.8</td>\n",
              "      <td>34.2</td>\n",
              "      <td>151.3</td>\n",
              "      <td>28.27</td>\n",
              "      <td>2.1</td>\n",
              "      <td>4.5</td>\n",
              "      <td>6.60</td>\n",
              "      <td>0.0</td>\n",
              "      <td>0.0</td>\n",
              "      <td>0.00</td>\n",
              "      <td>179.1</td>\n",
              "      <td>149.3</td>\n",
              "      <td>0.00</td>\n",
              "    </tr>\n",
              "    <tr>\n",
              "      <th>17</th>\n",
              "      <td>LA</td>\n",
              "      <td>Louisiana</td>\n",
              "      <td>state</td>\n",
              "      <td>1914.23</td>\n",
              "      <td>19.8</td>\n",
              "      <td>0.8</td>\n",
              "      <td>77.2</td>\n",
              "      <td>6.02</td>\n",
              "      <td>5.7</td>\n",
              "      <td>12.1</td>\n",
              "      <td>17.83</td>\n",
              "      <td>6.6</td>\n",
              "      <td>10.7</td>\n",
              "      <td>17.25</td>\n",
              "      <td>91.4</td>\n",
              "      <td>78.7</td>\n",
              "      <td>280.42</td>\n",
              "    </tr>\n",
              "    <tr>\n",
              "      <th>18</th>\n",
              "      <td>ME</td>\n",
              "      <td>Maine</td>\n",
              "      <td>state</td>\n",
              "      <td>278.37</td>\n",
              "      <td>1.4</td>\n",
              "      <td>0.5</td>\n",
              "      <td>10.4</td>\n",
              "      <td>16.18</td>\n",
              "      <td>16.6</td>\n",
              "      <td>35.4</td>\n",
              "      <td>52.01</td>\n",
              "      <td>24.0</td>\n",
              "      <td>38.9</td>\n",
              "      <td>62.90</td>\n",
              "      <td>0.0</td>\n",
              "      <td>0.0</td>\n",
              "      <td>0.00</td>\n",
              "    </tr>\n",
              "    <tr>\n",
              "      <th>19</th>\n",
              "      <td>MD</td>\n",
              "      <td>Maryland</td>\n",
              "      <td>state</td>\n",
              "      <td>692.75</td>\n",
              "      <td>5.6</td>\n",
              "      <td>3.1</td>\n",
              "      <td>127.0</td>\n",
              "      <td>24.81</td>\n",
              "      <td>4.1</td>\n",
              "      <td>8.8</td>\n",
              "      <td>12.90</td>\n",
              "      <td>7.8</td>\n",
              "      <td>12.6</td>\n",
              "      <td>20.43</td>\n",
              "      <td>54.1</td>\n",
              "      <td>55.8</td>\n",
              "      <td>0.00</td>\n",
              "    </tr>\n",
              "    <tr>\n",
              "      <th>20</th>\n",
              "      <td>MA</td>\n",
              "      <td>Massachusetts</td>\n",
              "      <td>state</td>\n",
              "      <td>248.65</td>\n",
              "      <td>0.6</td>\n",
              "      <td>0.5</td>\n",
              "      <td>0.6</td>\n",
              "      <td>5.81</td>\n",
              "      <td>25.8</td>\n",
              "      <td>55.0</td>\n",
              "      <td>80.83</td>\n",
              "      <td>8.1</td>\n",
              "      <td>13.1</td>\n",
              "      <td>21.13</td>\n",
              "      <td>0.0</td>\n",
              "      <td>0.0</td>\n",
              "      <td>0.00</td>\n",
              "    </tr>\n",
              "    <tr>\n",
              "      <th>21</th>\n",
              "      <td>MI</td>\n",
              "      <td>Michigan</td>\n",
              "      <td>state</td>\n",
              "      <td>3164.16</td>\n",
              "      <td>37.7</td>\n",
              "      <td>118.1</td>\n",
              "      <td>32.6</td>\n",
              "      <td>214.82</td>\n",
              "      <td>82.3</td>\n",
              "      <td>175.3</td>\n",
              "      <td>257.69</td>\n",
              "      <td>72.4</td>\n",
              "      <td>117.5</td>\n",
              "      <td>189.96</td>\n",
              "      <td>381.5</td>\n",
              "      <td>247.0</td>\n",
              "      <td>0.00</td>\n",
              "    </tr>\n",
              "    <tr>\n",
              "      <th>22</th>\n",
              "      <td>MN</td>\n",
              "      <td>Minnesota</td>\n",
              "      <td>state</td>\n",
              "      <td>7192.33</td>\n",
              "      <td>112.3</td>\n",
              "      <td>740.4</td>\n",
              "      <td>189.2</td>\n",
              "      <td>218.05</td>\n",
              "      <td>2.5</td>\n",
              "      <td>5.4</td>\n",
              "      <td>7.91</td>\n",
              "      <td>45.9</td>\n",
              "      <td>74.5</td>\n",
              "      <td>120.37</td>\n",
              "      <td>1264.3</td>\n",
              "      <td>538.1</td>\n",
              "      <td>0.00</td>\n",
              "    </tr>\n",
              "    <tr>\n",
              "      <th>23</th>\n",
              "      <td>MS</td>\n",
              "      <td>Mississippi</td>\n",
              "      <td>state</td>\n",
              "      <td>2170.80</td>\n",
              "      <td>12.8</td>\n",
              "      <td>30.4</td>\n",
              "      <td>370.8</td>\n",
              "      <td>5.45</td>\n",
              "      <td>5.4</td>\n",
              "      <td>11.6</td>\n",
              "      <td>17.04</td>\n",
              "      <td>10.6</td>\n",
              "      <td>17.2</td>\n",
              "      <td>27.87</td>\n",
              "      <td>110.0</td>\n",
              "      <td>102.2</td>\n",
              "      <td>494.75</td>\n",
              "    </tr>\n",
              "    <tr>\n",
              "      <th>24</th>\n",
              "      <td>MO</td>\n",
              "      <td>Missouri</td>\n",
              "      <td>state</td>\n",
              "      <td>3933.42</td>\n",
              "      <td>137.2</td>\n",
              "      <td>277.3</td>\n",
              "      <td>196.1</td>\n",
              "      <td>34.26</td>\n",
              "      <td>4.2</td>\n",
              "      <td>9.0</td>\n",
              "      <td>13.18</td>\n",
              "      <td>6.8</td>\n",
              "      <td>11.1</td>\n",
              "      <td>17.90</td>\n",
              "      <td>428.8</td>\n",
              "      <td>161.7</td>\n",
              "      <td>345.29</td>\n",
              "    </tr>\n",
              "    <tr>\n",
              "      <th>25</th>\n",
              "      <td>MT</td>\n",
              "      <td>Montana</td>\n",
              "      <td>state</td>\n",
              "      <td>1718.00</td>\n",
              "      <td>105.0</td>\n",
              "      <td>16.7</td>\n",
              "      <td>1.7</td>\n",
              "      <td>6.82</td>\n",
              "      <td>1.1</td>\n",
              "      <td>2.2</td>\n",
              "      <td>3.30</td>\n",
              "      <td>17.3</td>\n",
              "      <td>28.0</td>\n",
              "      <td>45.27</td>\n",
              "      <td>5.4</td>\n",
              "      <td>1198.1</td>\n",
              "      <td>0.00</td>\n",
              "    </tr>\n",
              "    <tr>\n",
              "      <th>26</th>\n",
              "      <td>NE</td>\n",
              "      <td>Nebraska</td>\n",
              "      <td>state</td>\n",
              "      <td>7114.13</td>\n",
              "      <td>762.2</td>\n",
              "      <td>262.5</td>\n",
              "      <td>31.4</td>\n",
              "      <td>30.07</td>\n",
              "      <td>0.7</td>\n",
              "      <td>1.5</td>\n",
              "      <td>2.16</td>\n",
              "      <td>20.4</td>\n",
              "      <td>33.1</td>\n",
              "      <td>53.50</td>\n",
              "      <td>1735.9</td>\n",
              "      <td>292.3</td>\n",
              "      <td>0.00</td>\n",
              "    </tr>\n",
              "    <tr>\n",
              "      <th>27</th>\n",
              "      <td>NV</td>\n",
              "      <td>Nevada</td>\n",
              "      <td>state</td>\n",
              "      <td>139.89</td>\n",
              "      <td>21.8</td>\n",
              "      <td>0.2</td>\n",
              "      <td>0.0</td>\n",
              "      <td>16.57</td>\n",
              "      <td>0.4</td>\n",
              "      <td>0.8</td>\n",
              "      <td>1.19</td>\n",
              "      <td>10.6</td>\n",
              "      <td>17.3</td>\n",
              "      <td>27.93</td>\n",
              "      <td>0.0</td>\n",
              "      <td>5.4</td>\n",
              "      <td>0.00</td>\n",
              "    </tr>\n",
              "    <tr>\n",
              "      <th>28</th>\n",
              "      <td>NH</td>\n",
              "      <td>New Hampshire</td>\n",
              "      <td>state</td>\n",
              "      <td>73.06</td>\n",
              "      <td>0.6</td>\n",
              "      <td>0.2</td>\n",
              "      <td>0.8</td>\n",
              "      <td>7.46</td>\n",
              "      <td>2.6</td>\n",
              "      <td>5.4</td>\n",
              "      <td>7.98</td>\n",
              "      <td>1.7</td>\n",
              "      <td>2.8</td>\n",
              "      <td>4.50</td>\n",
              "      <td>0.0</td>\n",
              "      <td>0.0</td>\n",
              "      <td>0.00</td>\n",
              "    </tr>\n",
              "    <tr>\n",
              "      <th>29</th>\n",
              "      <td>NJ</td>\n",
              "      <td>New Jersey</td>\n",
              "      <td>state</td>\n",
              "      <td>500.40</td>\n",
              "      <td>0.8</td>\n",
              "      <td>0.4</td>\n",
              "      <td>4.6</td>\n",
              "      <td>3.37</td>\n",
              "      <td>35.0</td>\n",
              "      <td>74.5</td>\n",
              "      <td>109.45</td>\n",
              "      <td>21.6</td>\n",
              "      <td>35.0</td>\n",
              "      <td>56.54</td>\n",
              "      <td>10.1</td>\n",
              "      <td>6.7</td>\n",
              "      <td>0.00</td>\n",
              "    </tr>\n",
              "    <tr>\n",
              "      <th>30</th>\n",
              "      <td>NM</td>\n",
              "      <td>New Mexico</td>\n",
              "      <td>state</td>\n",
              "      <td>751.58</td>\n",
              "      <td>117.2</td>\n",
              "      <td>0.1</td>\n",
              "      <td>0.3</td>\n",
              "      <td>191.01</td>\n",
              "      <td>32.6</td>\n",
              "      <td>69.3</td>\n",
              "      <td>101.90</td>\n",
              "      <td>16.7</td>\n",
              "      <td>27.1</td>\n",
              "      <td>43.88</td>\n",
              "      <td>11.2</td>\n",
              "      <td>13.9</td>\n",
              "      <td>72.62</td>\n",
              "    </tr>\n",
              "    <tr>\n",
              "      <th>31</th>\n",
              "      <td>NY</td>\n",
              "      <td>New York</td>\n",
              "      <td>state</td>\n",
              "      <td>1488.90</td>\n",
              "      <td>22.2</td>\n",
              "      <td>5.8</td>\n",
              "      <td>17.7</td>\n",
              "      <td>331.80</td>\n",
              "      <td>64.7</td>\n",
              "      <td>137.8</td>\n",
              "      <td>202.56</td>\n",
              "      <td>54.7</td>\n",
              "      <td>88.7</td>\n",
              "      <td>143.37</td>\n",
              "      <td>106.1</td>\n",
              "      <td>29.9</td>\n",
              "      <td>0.00</td>\n",
              "    </tr>\n",
              "    <tr>\n",
              "      <th>32</th>\n",
              "      <td>NC</td>\n",
              "      <td>North Carolina</td>\n",
              "      <td>state</td>\n",
              "      <td>3806.05</td>\n",
              "      <td>24.8</td>\n",
              "      <td>702.8</td>\n",
              "      <td>598.4</td>\n",
              "      <td>24.90</td>\n",
              "      <td>23.8</td>\n",
              "      <td>50.7</td>\n",
              "      <td>74.47</td>\n",
              "      <td>57.4</td>\n",
              "      <td>93.1</td>\n",
              "      <td>150.45</td>\n",
              "      <td>92.2</td>\n",
              "      <td>200.3</td>\n",
              "      <td>470.86</td>\n",
              "    </tr>\n",
              "    <tr>\n",
              "      <th>33</th>\n",
              "      <td>ND</td>\n",
              "      <td>North Dakota</td>\n",
              "      <td>state</td>\n",
              "      <td>3761.96</td>\n",
              "      <td>78.5</td>\n",
              "      <td>16.1</td>\n",
              "      <td>0.5</td>\n",
              "      <td>8.14</td>\n",
              "      <td>0.1</td>\n",
              "      <td>0.2</td>\n",
              "      <td>0.25</td>\n",
              "      <td>49.9</td>\n",
              "      <td>80.9</td>\n",
              "      <td>130.79</td>\n",
              "      <td>236.1</td>\n",
              "      <td>1664.5</td>\n",
              "      <td>0.00</td>\n",
              "    </tr>\n",
              "    <tr>\n",
              "      <th>34</th>\n",
              "      <td>OH</td>\n",
              "      <td>Ohio</td>\n",
              "      <td>state</td>\n",
              "      <td>3979.79</td>\n",
              "      <td>36.2</td>\n",
              "      <td>199.1</td>\n",
              "      <td>129.9</td>\n",
              "      <td>134.57</td>\n",
              "      <td>8.7</td>\n",
              "      <td>18.5</td>\n",
              "      <td>27.21</td>\n",
              "      <td>20.4</td>\n",
              "      <td>33.1</td>\n",
              "      <td>53.53</td>\n",
              "      <td>535.1</td>\n",
              "      <td>207.4</td>\n",
              "      <td>0.00</td>\n",
              "    </tr>\n",
              "    <tr>\n",
              "      <th>35</th>\n",
              "      <td>OK</td>\n",
              "      <td>Oklahoma</td>\n",
              "      <td>state</td>\n",
              "      <td>1646.41</td>\n",
              "      <td>337.6</td>\n",
              "      <td>265.3</td>\n",
              "      <td>131.1</td>\n",
              "      <td>24.35</td>\n",
              "      <td>3.0</td>\n",
              "      <td>6.3</td>\n",
              "      <td>9.24</td>\n",
              "      <td>3.4</td>\n",
              "      <td>5.5</td>\n",
              "      <td>8.90</td>\n",
              "      <td>27.5</td>\n",
              "      <td>324.8</td>\n",
              "      <td>110.54</td>\n",
              "    </tr>\n",
              "    <tr>\n",
              "      <th>36</th>\n",
              "      <td>OR</td>\n",
              "      <td>Oregon</td>\n",
              "      <td>state</td>\n",
              "      <td>1794.57</td>\n",
              "      <td>58.8</td>\n",
              "      <td>1.4</td>\n",
              "      <td>14.2</td>\n",
              "      <td>63.66</td>\n",
              "      <td>100.7</td>\n",
              "      <td>214.4</td>\n",
              "      <td>315.04</td>\n",
              "      <td>48.2</td>\n",
              "      <td>78.3</td>\n",
              "      <td>126.50</td>\n",
              "      <td>11.7</td>\n",
              "      <td>320.3</td>\n",
              "      <td>0.00</td>\n",
              "    </tr>\n",
              "    <tr>\n",
              "      <th>37</th>\n",
              "      <td>PA</td>\n",
              "      <td>Pennsylvania</td>\n",
              "      <td>state</td>\n",
              "      <td>1969.87</td>\n",
              "      <td>50.9</td>\n",
              "      <td>91.3</td>\n",
              "      <td>169.8</td>\n",
              "      <td>280.87</td>\n",
              "      <td>28.6</td>\n",
              "      <td>60.9</td>\n",
              "      <td>89.48</td>\n",
              "      <td>14.6</td>\n",
              "      <td>23.7</td>\n",
              "      <td>38.26</td>\n",
              "      <td>112.1</td>\n",
              "      <td>41.0</td>\n",
              "      <td>0.00</td>\n",
              "    </tr>\n",
              "    <tr>\n",
              "      <th>38</th>\n",
              "      <td>RI</td>\n",
              "      <td>Rhode Island</td>\n",
              "      <td>state</td>\n",
              "      <td>31.59</td>\n",
              "      <td>0.1</td>\n",
              "      <td>0.1</td>\n",
              "      <td>0.2</td>\n",
              "      <td>0.52</td>\n",
              "      <td>0.9</td>\n",
              "      <td>1.9</td>\n",
              "      <td>2.83</td>\n",
              "      <td>1.2</td>\n",
              "      <td>1.9</td>\n",
              "      <td>3.02</td>\n",
              "      <td>0.0</td>\n",
              "      <td>0.0</td>\n",
              "      <td>0.00</td>\n",
              "    </tr>\n",
              "    <tr>\n",
              "      <th>39</th>\n",
              "      <td>SC</td>\n",
              "      <td>South Carolina</td>\n",
              "      <td>state</td>\n",
              "      <td>929.93</td>\n",
              "      <td>15.2</td>\n",
              "      <td>10.9</td>\n",
              "      <td>186.5</td>\n",
              "      <td>7.62</td>\n",
              "      <td>17.1</td>\n",
              "      <td>36.4</td>\n",
              "      <td>53.45</td>\n",
              "      <td>16.3</td>\n",
              "      <td>26.4</td>\n",
              "      <td>42.66</td>\n",
              "      <td>32.1</td>\n",
              "      <td>55.3</td>\n",
              "      <td>206.10</td>\n",
              "    </tr>\n",
              "    <tr>\n",
              "      <th>40</th>\n",
              "      <td>SD</td>\n",
              "      <td>South Dakota</td>\n",
              "      <td>state</td>\n",
              "      <td>3770.19</td>\n",
              "      <td>193.5</td>\n",
              "      <td>160.2</td>\n",
              "      <td>29.3</td>\n",
              "      <td>46.77</td>\n",
              "      <td>0.3</td>\n",
              "      <td>0.5</td>\n",
              "      <td>0.80</td>\n",
              "      <td>1.5</td>\n",
              "      <td>2.5</td>\n",
              "      <td>4.06</td>\n",
              "      <td>643.6</td>\n",
              "      <td>704.5</td>\n",
              "      <td>0.00</td>\n",
              "    </tr>\n",
              "    <tr>\n",
              "      <th>41</th>\n",
              "      <td>TN</td>\n",
              "      <td>Tennessee</td>\n",
              "      <td>state</td>\n",
              "      <td>1535.13</td>\n",
              "      <td>51.1</td>\n",
              "      <td>17.6</td>\n",
              "      <td>82.4</td>\n",
              "      <td>21.18</td>\n",
              "      <td>2.0</td>\n",
              "      <td>4.2</td>\n",
              "      <td>6.23</td>\n",
              "      <td>9.4</td>\n",
              "      <td>15.3</td>\n",
              "      <td>24.67</td>\n",
              "      <td>88.8</td>\n",
              "      <td>100.0</td>\n",
              "      <td>363.83</td>\n",
              "    </tr>\n",
              "    <tr>\n",
              "      <th>42</th>\n",
              "      <td>TX</td>\n",
              "      <td>Texas</td>\n",
              "      <td>state</td>\n",
              "      <td>6648.22</td>\n",
              "      <td>961.0</td>\n",
              "      <td>42.7</td>\n",
              "      <td>339.2</td>\n",
              "      <td>240.55</td>\n",
              "      <td>31.9</td>\n",
              "      <td>68.0</td>\n",
              "      <td>99.90</td>\n",
              "      <td>43.9</td>\n",
              "      <td>71.3</td>\n",
              "      <td>115.23</td>\n",
              "      <td>167.2</td>\n",
              "      <td>309.7</td>\n",
              "      <td>2308.76</td>\n",
              "    </tr>\n",
              "    <tr>\n",
              "      <th>43</th>\n",
              "      <td>UT</td>\n",
              "      <td>Utah</td>\n",
              "      <td>state</td>\n",
              "      <td>453.39</td>\n",
              "      <td>27.9</td>\n",
              "      <td>59.0</td>\n",
              "      <td>23.1</td>\n",
              "      <td>48.60</td>\n",
              "      <td>3.9</td>\n",
              "      <td>8.4</td>\n",
              "      <td>12.34</td>\n",
              "      <td>2.5</td>\n",
              "      <td>4.1</td>\n",
              "      <td>6.60</td>\n",
              "      <td>5.3</td>\n",
              "      <td>42.8</td>\n",
              "      <td>0.00</td>\n",
              "    </tr>\n",
              "    <tr>\n",
              "      <th>44</th>\n",
              "      <td>VT</td>\n",
              "      <td>Vermont</td>\n",
              "      <td>state</td>\n",
              "      <td>180.14</td>\n",
              "      <td>6.2</td>\n",
              "      <td>0.2</td>\n",
              "      <td>0.9</td>\n",
              "      <td>65.98</td>\n",
              "      <td>2.6</td>\n",
              "      <td>5.4</td>\n",
              "      <td>8.01</td>\n",
              "      <td>1.5</td>\n",
              "      <td>2.5</td>\n",
              "      <td>4.05</td>\n",
              "      <td>0.0</td>\n",
              "      <td>0.0</td>\n",
              "      <td>0.00</td>\n",
              "    </tr>\n",
              "    <tr>\n",
              "      <th>45</th>\n",
              "      <td>VA</td>\n",
              "      <td>Virginia</td>\n",
              "      <td>state</td>\n",
              "      <td>1146.48</td>\n",
              "      <td>39.5</td>\n",
              "      <td>16.9</td>\n",
              "      <td>164.7</td>\n",
              "      <td>47.85</td>\n",
              "      <td>11.7</td>\n",
              "      <td>24.8</td>\n",
              "      <td>36.48</td>\n",
              "      <td>10.4</td>\n",
              "      <td>16.9</td>\n",
              "      <td>27.25</td>\n",
              "      <td>39.5</td>\n",
              "      <td>77.5</td>\n",
              "      <td>64.84</td>\n",
              "    </tr>\n",
              "    <tr>\n",
              "      <th>46</th>\n",
              "      <td>WA</td>\n",
              "      <td>Washington</td>\n",
              "      <td>state</td>\n",
              "      <td>3894.81</td>\n",
              "      <td>59.2</td>\n",
              "      <td>0.0</td>\n",
              "      <td>35.6</td>\n",
              "      <td>154.18</td>\n",
              "      <td>555.6</td>\n",
              "      <td>1183.0</td>\n",
              "      <td>1738.57</td>\n",
              "      <td>138.7</td>\n",
              "      <td>225.1</td>\n",
              "      <td>363.79</td>\n",
              "      <td>29.5</td>\n",
              "      <td>786.3</td>\n",
              "      <td>0.00</td>\n",
              "    </tr>\n",
              "    <tr>\n",
              "      <th>47</th>\n",
              "      <td>WV</td>\n",
              "      <td>West Virginia</td>\n",
              "      <td>state</td>\n",
              "      <td>138.89</td>\n",
              "      <td>12.0</td>\n",
              "      <td>0.3</td>\n",
              "      <td>45.4</td>\n",
              "      <td>3.90</td>\n",
              "      <td>3.7</td>\n",
              "      <td>7.9</td>\n",
              "      <td>11.54</td>\n",
              "      <td>0.0</td>\n",
              "      <td>0.0</td>\n",
              "      <td>0.00</td>\n",
              "      <td>3.5</td>\n",
              "      <td>1.6</td>\n",
              "      <td>0.00</td>\n",
              "    </tr>\n",
              "    <tr>\n",
              "      <th>48</th>\n",
              "      <td>WI</td>\n",
              "      <td>Wisconsin</td>\n",
              "      <td>state</td>\n",
              "      <td>3090.23</td>\n",
              "      <td>107.3</td>\n",
              "      <td>38.6</td>\n",
              "      <td>34.5</td>\n",
              "      <td>633.60</td>\n",
              "      <td>42.8</td>\n",
              "      <td>91.0</td>\n",
              "      <td>133.80</td>\n",
              "      <td>56.8</td>\n",
              "      <td>92.2</td>\n",
              "      <td>148.99</td>\n",
              "      <td>460.5</td>\n",
              "      <td>96.7</td>\n",
              "      <td>0.00</td>\n",
              "    </tr>\n",
              "    <tr>\n",
              "      <th>49</th>\n",
              "      <td>WY</td>\n",
              "      <td>Wyoming</td>\n",
              "      <td>state</td>\n",
              "      <td>349.69</td>\n",
              "      <td>75.1</td>\n",
              "      <td>33.2</td>\n",
              "      <td>0.1</td>\n",
              "      <td>2.89</td>\n",
              "      <td>0.1</td>\n",
              "      <td>0.1</td>\n",
              "      <td>0.17</td>\n",
              "      <td>3.9</td>\n",
              "      <td>6.3</td>\n",
              "      <td>10.23</td>\n",
              "      <td>9.0</td>\n",
              "      <td>20.7</td>\n",
              "      <td>0.00</td>\n",
              "    </tr>\n",
              "  </tbody>\n",
              "</table>\n",
              "</div>\n",
              "      <button class=\"colab-df-convert\" onclick=\"convertToInteractive('df-035181fb-9189-4475-a352-f77f27401858')\"\n",
              "              title=\"Convert this dataframe to an interactive table.\"\n",
              "              style=\"display:none;\">\n",
              "        \n",
              "  <svg xmlns=\"http://www.w3.org/2000/svg\" height=\"24px\"viewBox=\"0 0 24 24\"\n",
              "       width=\"24px\">\n",
              "    <path d=\"M0 0h24v24H0V0z\" fill=\"none\"/>\n",
              "    <path d=\"M18.56 5.44l.94 2.06.94-2.06 2.06-.94-2.06-.94-.94-2.06-.94 2.06-2.06.94zm-11 1L8.5 8.5l.94-2.06 2.06-.94-2.06-.94L8.5 2.5l-.94 2.06-2.06.94zm10 10l.94 2.06.94-2.06 2.06-.94-2.06-.94-.94-2.06-.94 2.06-2.06.94z\"/><path d=\"M17.41 7.96l-1.37-1.37c-.4-.4-.92-.59-1.43-.59-.52 0-1.04.2-1.43.59L10.3 9.45l-7.72 7.72c-.78.78-.78 2.05 0 2.83L4 21.41c.39.39.9.59 1.41.59.51 0 1.02-.2 1.41-.59l7.78-7.78 2.81-2.81c.8-.78.8-2.07 0-2.86zM5.41 20L4 18.59l7.72-7.72 1.47 1.35L5.41 20z\"/>\n",
              "  </svg>\n",
              "      </button>\n",
              "      \n",
              "  <style>\n",
              "    .colab-df-container {\n",
              "      display:flex;\n",
              "      flex-wrap:wrap;\n",
              "      gap: 12px;\n",
              "    }\n",
              "\n",
              "    .colab-df-convert {\n",
              "      background-color: #E8F0FE;\n",
              "      border: none;\n",
              "      border-radius: 50%;\n",
              "      cursor: pointer;\n",
              "      display: none;\n",
              "      fill: #1967D2;\n",
              "      height: 32px;\n",
              "      padding: 0 0 0 0;\n",
              "      width: 32px;\n",
              "    }\n",
              "\n",
              "    .colab-df-convert:hover {\n",
              "      background-color: #E2EBFA;\n",
              "      box-shadow: 0px 1px 2px rgba(60, 64, 67, 0.3), 0px 1px 3px 1px rgba(60, 64, 67, 0.15);\n",
              "      fill: #174EA6;\n",
              "    }\n",
              "\n",
              "    [theme=dark] .colab-df-convert {\n",
              "      background-color: #3B4455;\n",
              "      fill: #D2E3FC;\n",
              "    }\n",
              "\n",
              "    [theme=dark] .colab-df-convert:hover {\n",
              "      background-color: #434B5C;\n",
              "      box-shadow: 0px 1px 3px 1px rgba(0, 0, 0, 0.15);\n",
              "      filter: drop-shadow(0px 1px 2px rgba(0, 0, 0, 0.3));\n",
              "      fill: #FFFFFF;\n",
              "    }\n",
              "  </style>\n",
              "\n",
              "      <script>\n",
              "        const buttonEl =\n",
              "          document.querySelector('#df-035181fb-9189-4475-a352-f77f27401858 button.colab-df-convert');\n",
              "        buttonEl.style.display =\n",
              "          google.colab.kernel.accessAllowed ? 'block' : 'none';\n",
              "\n",
              "        async function convertToInteractive(key) {\n",
              "          const element = document.querySelector('#df-035181fb-9189-4475-a352-f77f27401858');\n",
              "          const dataTable =\n",
              "            await google.colab.kernel.invokeFunction('convertToInteractive',\n",
              "                                                     [key], {});\n",
              "          if (!dataTable) return;\n",
              "\n",
              "          const docLinkHtml = 'Like what you see? Visit the ' +\n",
              "            '<a target=\"_blank\" href=https://colab.research.google.com/notebooks/data_table.ipynb>data table notebook</a>'\n",
              "            + ' to learn more about interactive tables.';\n",
              "          element.innerHTML = '';\n",
              "          dataTable['output_type'] = 'display_data';\n",
              "          await google.colab.output.renderOutput(dataTable, element);\n",
              "          const docLink = document.createElement('div');\n",
              "          docLink.innerHTML = docLinkHtml;\n",
              "          element.appendChild(docLink);\n",
              "        }\n",
              "      </script>\n",
              "    </div>\n",
              "  </div>\n",
              "  "
            ]
          },
          "metadata": {},
          "execution_count": 51
        }
      ]
    },
    {
      "cell_type": "markdown",
      "source": [
        "##### **Problem #1:** Compare beef export of diferent states using a bar graph. Make sure you adjust the size of the plot."
      ],
      "metadata": {
        "id": "nN0tkLl8PoT4"
      }
    },
    {
      "cell_type": "markdown",
      "source": [
        "\n",
        "\n",
        "Note: to use a dataframe for a graph, here is the syntax:\n",
        "```\n",
        "plt.bar(DF_NAME['x_variable'],export_df['y_variable'])\n",
        "```"
      ],
      "metadata": {
        "id": "OJti-ZwmPqm8"
      }
    },
    {
      "cell_type": "code",
      "source": [],
      "metadata": {
        "id": "0JArGmUYP2jQ"
      },
      "execution_count": null,
      "outputs": []
    },
    {
      "cell_type": "markdown",
      "source": [
        "##### **Solution:**"
      ],
      "metadata": {
        "id": "ao1fgH8SP1A0"
      }
    },
    {
      "cell_type": "code",
      "source": [
        "#beef export\n",
        "plt.figure(figsize=(15,5))\n",
        "plt.bar(export_df['code'],export_df['beef'])\n",
        "plt.xlabel(\"States\")\n",
        "plt.ylabel(\"Beef export\")\n",
        "plt.show()"
      ],
      "metadata": {
        "id": "4T_YFt7WP1tn"
      },
      "execution_count": null,
      "outputs": []
    },
    {
      "cell_type": "markdown",
      "source": [
        "##### **Problem #2:** Compare corn export of different states using a bar graph. Make sure you adjust the size of the plot."
      ],
      "metadata": {
        "id": "_TtWLwGvQS7U"
      }
    },
    {
      "cell_type": "code",
      "source": [],
      "metadata": {
        "id": "aRIt-71SQTvy"
      },
      "execution_count": null,
      "outputs": []
    },
    {
      "cell_type": "markdown",
      "source": [
        "##### **Solution:**"
      ],
      "metadata": {
        "id": "sAUpg9RiQLUw"
      }
    },
    {
      "cell_type": "code",
      "source": [
        "#corn export\n",
        "plt.figure(figsize=(15,5))\n",
        "plt.bar(export_df['code'],export_df['corn'])\n",
        "plt.xlabel(\"States\")\n",
        "plt.ylabel(\"corn export\")\n",
        "plt.show()"
      ],
      "metadata": {
        "id": "oEERQHoeQLuQ"
      },
      "execution_count": null,
      "outputs": []
    },
    {
      "cell_type": "markdown",
      "source": [
        "##### **Problem #3:** Compare beef and corn export of Arizona, Arkansas, California and Colorado using a grouped bar chart. Make sure you adjust the size of the plot.\n",
        "\n",
        "The data has already been filtered to only include Arizona, Arkansas, California and Colorado using the starter code below."
      ],
      "metadata": {
        "id": "M3ZqKr_zQbIJ"
      }
    },
    {
      "cell_type": "code",
      "source": [
        "#Export of beef and corn for Arizona, Arkansas, California, Colorado\n",
        "x_axis = np.arange(len(export_df[\"code\"][2:6]))\n",
        "\n",
        "#add code here"
      ],
      "metadata": {
        "id": "Yr0n_fXtQn6t"
      },
      "execution_count": null,
      "outputs": []
    },
    {
      "cell_type": "markdown",
      "source": [
        "##### **Solution**"
      ],
      "metadata": {
        "id": "cKzVYStVQmHF"
      }
    },
    {
      "cell_type": "code",
      "source": [
        "#Export of beef and corn for Arizona, Arkansas, California, Colorado\n",
        "x_axis = np.arange(len(export_df[\"code\"][2:6]))\n",
        "\n",
        "plt.figure(figsize=(6,4))\n",
        "plt.bar(x_axis -0.2, export_df[\"beef\"][2:6], width=0.4, label = 'beef')\n",
        "plt.bar(x_axis +0.2, export_df[\"corn\"][2:6], width=0.4, label = 'corn')\n",
        "\n",
        "plt.legend()\n",
        "\n",
        "# to customize labels on x axis\n",
        "states = ['Arizona', 'Arkansas', 'California', 'Colorado']\n",
        "y_pos = np.arange(len(states))\n",
        "plt.xticks(y_pos, states)\n",
        "plt.show()"
      ],
      "metadata": {
        "id": "VC6vlldqQllu"
      },
      "execution_count": null,
      "outputs": []
    },
    {
      "cell_type": "markdown",
      "source": [
        "### **Section 2.5: Styling Titles and Labels**"
      ],
      "metadata": {
        "id": "DrsWeKWtGs8d"
      }
    },
    {
      "cell_type": "markdown",
      "source": [
        "#### **Problem #1**\n",
        "\n",
        "Using your solution from the previous problem, add a title and labels as shown:\n",
        "* x: `\"States\"`\n",
        "* y: `\"$\"`\n",
        "* title: `\"Export of beef and corn for Arizona, Arkansas, California, Colorado\"`"
      ],
      "metadata": {
        "id": "4fY0rKXoIEYj"
      }
    },
    {
      "cell_type": "code",
      "source": [],
      "metadata": {
        "id": "qfbRRqRIcGrQ"
      },
      "execution_count": null,
      "outputs": []
    },
    {
      "cell_type": "markdown",
      "source": [
        "#####**Potential Solution**"
      ],
      "metadata": {
        "id": "pwwvKHxNcHDt"
      }
    },
    {
      "cell_type": "code",
      "source": [
        "#Export of beef and corn for Arizona, Arkansas, California, Colorado\n",
        "x_axis = np.arange(len(export_df[\"code\"][2:6]))\n",
        "\n",
        "plt.figure(figsize=(6,4))\n",
        "plt.bar(x_axis -0.2, export_df[\"beef\"][2:6], width=0.4, label = 'beef')\n",
        "plt.bar(x_axis +0.2, export_df[\"corn\"][2:6], width=0.4, label = 'corn')\n",
        "\n",
        "plt.xlabel(\"States\")\n",
        "plt.ylabel(\"$\")\n",
        "plt.title(\"Export of beef and corn for Arizona, Arkansas, California, Colorado\")\n",
        "plt.legend()\n",
        "\n",
        "# to customize labels on x axis\n",
        "states = ['Arizona', 'Arkansas', 'California', 'Colorado']\n",
        "y_pos = np.arange(len(states))\n",
        "plt.xticks(y_pos, states)\n",
        "plt.show()"
      ],
      "metadata": {
        "colab": {
          "base_uri": "https://localhost:8080/",
          "height": 325
        },
        "id": "W-vIxU4WcI5t",
        "outputId": "33d44451-5d46-411c-bc4d-cdcb770cdeac"
      },
      "execution_count": null,
      "outputs": [
        {
          "output_type": "display_data",
          "data": {
            "text/plain": [
              "<Figure size 432x288 with 1 Axes>"
            ],
            "image/png": "[encoded data removed]"
          },
          "metadata": {}
        }
      ]
    },
    {
      "cell_type": "markdown",
      "source": [
        "#### **Problem #1**\n",
        "\n",
        "Use your solution to section 2.2 problem 1 and add a title and labels as follows:\n",
        "* x: `\"Year\"`\n",
        "* y: `\"Unemployment Rate\"`\n",
        "* title: `\"Unemployment rate over the years\"`"
      ],
      "metadata": {
        "id": "XSm7qtDscY0J"
      }
    },
    {
      "cell_type": "code",
      "source": [],
      "metadata": {
        "id": "90dZKCTGcjFr"
      },
      "execution_count": null,
      "outputs": []
    },
    {
      "cell_type": "markdown",
      "source": [
        "#####**Potential Solutions**"
      ],
      "metadata": {
        "id": "x4ctZYQ_cjMf"
      }
    },
    {
      "cell_type": "code",
      "source": [
        "Year = [1920,1930,1940,1950,1960,1970,1980,1990,2000,2010]\n",
        "Unemployment_Rate = [9.8,12,8,7.2,6.9,7,6.5,6.2,5.5,6.3]\n",
        "\n",
        "plt.plot(Year, Unemployment_Rate, color = \"purple\", marker = \".\", label = \"Unemp. Rate\", ls = \"--\")\n",
        "plt.xlabel(\"Year\")\n",
        "plt.ylabel(\"Unemployment Rate\")\n",
        "plt.title(\"Unemployment rate over the years\")\n",
        "plt.grid()\n",
        "plt.legend()\n",
        "plt.show()"
      ],
      "metadata": {
        "id": "N9_9Ozeuck2N",
        "colab": {
          "base_uri": "https://localhost:8080/",
          "height": 295
        },
        "outputId": "9ce8499b-0910-46a2-ae34-e4b909b2847c"
      },
      "execution_count": null,
      "outputs": [
        {
          "output_type": "display_data",
          "data": {
            "text/plain": [
              "<Figure size 432x288 with 1 Axes>"
            ],
            "image/png": "[encoded data removed]"
          },
          "metadata": {
            "needs_background": "light"
          }
        }
      ]
    },
    {
      "cell_type": "markdown",
      "source": [
        "---\n",
        "Copyright, The Coding School 2022"
      ],
      "metadata": {
        "id": "O4Wa3pMHxQxy"
      }
    }
  ]
}